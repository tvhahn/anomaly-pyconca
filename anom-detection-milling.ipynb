{
 "cells": [
  {
   "cell_type": "code",
   "execution_count": 1,
   "metadata": {},
   "outputs": [],
   "source": [
    "import scipy.io as sio\n",
    "import numpy as np\n",
    "import pandas as pd\n",
    "import matplotlib.pyplot as plt\n",
    "import seaborn as sns\n",
    "import pathlib\n",
    "from pathlib import Path\n",
    "import datetime"
   ]
  },
  {
   "cell_type": "markdown",
   "metadata": {},
   "source": [
    "# 1. Data Exploration"
   ]
  },
  {
   "cell_type": "markdown",
   "metadata": {},
   "source": [
    "Milling data is in the repo, but can also be downloaded from the [NASA Prognostics Center](https://ti.arc.nasa.gov/tech/dash/groups/pcoe/prognostic-data-repository/#milling). Extract the mill.zip."
   ]
  },
  {
   "cell_type": "code",
   "execution_count": 2,
   "metadata": {},
   "outputs": [
    {
     "data": {
      "text/html": [
       "<div>\n",
       "<style scoped>\n",
       "    .dataframe tbody tr th:only-of-type {\n",
       "        vertical-align: middle;\n",
       "    }\n",
       "\n",
       "    .dataframe tbody tr th {\n",
       "        vertical-align: top;\n",
       "    }\n",
       "\n",
       "    .dataframe thead th {\n",
       "        text-align: right;\n",
       "    }\n",
       "</style>\n",
       "<table border=\"1\" class=\"dataframe\">\n",
       "  <thead>\n",
       "    <tr style=\"text-align: right;\">\n",
       "      <th></th>\n",
       "      <th>case</th>\n",
       "      <th>run</th>\n",
       "      <th>VB</th>\n",
       "      <th>time</th>\n",
       "      <th>DOC</th>\n",
       "      <th>feed</th>\n",
       "      <th>material</th>\n",
       "      <th>cut_no</th>\n",
       "    </tr>\n",
       "  </thead>\n",
       "  <tbody>\n",
       "    <tr>\n",
       "      <td>0</td>\n",
       "      <td>1</td>\n",
       "      <td>1</td>\n",
       "      <td>0.00</td>\n",
       "      <td>2</td>\n",
       "      <td>1.5</td>\n",
       "      <td>0.5</td>\n",
       "      <td>1</td>\n",
       "      <td>0</td>\n",
       "    </tr>\n",
       "    <tr>\n",
       "      <td>1</td>\n",
       "      <td>1</td>\n",
       "      <td>2</td>\n",
       "      <td>NaN</td>\n",
       "      <td>4</td>\n",
       "      <td>1.5</td>\n",
       "      <td>0.5</td>\n",
       "      <td>1</td>\n",
       "      <td>1</td>\n",
       "    </tr>\n",
       "    <tr>\n",
       "      <td>2</td>\n",
       "      <td>1</td>\n",
       "      <td>3</td>\n",
       "      <td>NaN</td>\n",
       "      <td>6</td>\n",
       "      <td>1.5</td>\n",
       "      <td>0.5</td>\n",
       "      <td>1</td>\n",
       "      <td>2</td>\n",
       "    </tr>\n",
       "    <tr>\n",
       "      <td>3</td>\n",
       "      <td>1</td>\n",
       "      <td>4</td>\n",
       "      <td>0.11</td>\n",
       "      <td>7</td>\n",
       "      <td>1.5</td>\n",
       "      <td>0.5</td>\n",
       "      <td>1</td>\n",
       "      <td>3</td>\n",
       "    </tr>\n",
       "    <tr>\n",
       "      <td>4</td>\n",
       "      <td>1</td>\n",
       "      <td>5</td>\n",
       "      <td>NaN</td>\n",
       "      <td>11</td>\n",
       "      <td>1.5</td>\n",
       "      <td>0.5</td>\n",
       "      <td>1</td>\n",
       "      <td>4</td>\n",
       "    </tr>\n",
       "  </tbody>\n",
       "</table>\n",
       "</div>"
      ],
      "text/plain": [
       "   case  run    VB  time  DOC  feed  material  cut_no\n",
       "0     1    1  0.00     2  1.5   0.5         1       0\n",
       "1     1    2   NaN     4  1.5   0.5         1       1\n",
       "2     1    3   NaN     6  1.5   0.5         1       2\n",
       "3     1    4  0.11     7  1.5   0.5         1       3\n",
       "4     1    5   NaN    11  1.5   0.5         1       4"
      ]
     },
     "execution_count": 2,
     "metadata": {},
     "output_type": "execute_result"
    }
   ],
   "source": [
    "data_folder = Path()  # mill.mat should be in the pwd\n",
    "data_file = data_folder / 'mill.mat'\n",
    "\n",
    "# load the data from the matlab file\n",
    "m = sio.loadmat(data_file,struct_as_record=True)\n",
    "\n",
    "# store the 'mill' data in a seperate np array\n",
    "data = m['mill']\n",
    "\n",
    "# store the field names in the data np array in a tuple, l\n",
    "l = data.dtype.names\n",
    "\n",
    "# create empty dataframe for the labels\n",
    "df_labels = pd.DataFrame()\n",
    "\n",
    "# get the labels from the original .mat file and put in dataframe\n",
    "for i in range(7):\n",
    "    # list for storing the label data for each field\n",
    "    x = []\n",
    "    \n",
    "    # iterate through each of the unique cuts\n",
    "    for j in range(167):\n",
    "        x.append(data[0,j][i][0][0])\n",
    "    x = np.array(x)\n",
    "    df_labels[str(i)] = x\n",
    "\n",
    "# add column names to the dataframe\n",
    "df_labels.columns = l[0:7]\n",
    "    \n",
    "# create a column with the unique cut number\n",
    "df_labels['cut_no'] = [i for i in range(167)]\n",
    "df_labels.head()"
   ]
  },
  {
   "cell_type": "markdown",
   "metadata": {},
   "source": [
    "There are 167 cuts in total. Each cut has six measurements being taken at a sampling rate of 250 Hz and 9000 sampling point. The six signals are:\n",
    "- **smcAC**: AC spindle motor current\n",
    "- **smcDC**: DC spindle motor current\n",
    "- **vib_table**: Table vibration\n",
    "- **vib_spindle**: Spindle vibration\n",
    "- **AE_table**: Acoustic emission at table\n",
    "- **AE_spindle**: Acoustic emission at spindle"
   ]
  },
  {
   "cell_type": "code",
   "execution_count": 3,
   "metadata": {},
   "outputs": [
    {
     "data": {
      "text/plain": [
       "('smcAC', 'smcDC', 'vib_table', 'vib_spindle', 'AE_table', 'AE_spindle')"
      ]
     },
     "execution_count": 3,
     "metadata": {},
     "output_type": "execute_result"
    }
   ],
   "source": [
    "# list of the six signals in each cut\n",
    "l[7:]"
   ]
  },
  {
   "cell_type": "markdown",
   "metadata": {},
   "source": [
    "There are 16 distinct cases, with a varying number of runs per case. The feed rate will be either 0.25 or 0.5 mm/rev for each case. See the Readme.pdf in the mill.zip file for more details.\n",
    "\n",
    "Let's look at one of the cuts:"
   ]
  },
  {
   "cell_type": "code",
   "execution_count": 4,
   "metadata": {},
   "outputs": [
    {
     "data": {
      "image/png": "[encoded data removed]",
      "text/plain": [
       "<Figure size 750x900 with 6 Axes>"
      ]
     },
     "metadata": {},
     "output_type": "display_data"
    }
   ],
   "source": [
    "def plot_cut(cut_signal, signals_trend):\n",
    "    \n",
    "    # define colour palette and seaborn style\n",
    "    pal = sns.cubehelix_palette(6, rot=-.25, light=.7)\n",
    "    sns.set(style=\"white\", context=\"notebook\")\n",
    "    \n",
    "    fig, axes = plt.subplots(6, 1,dpi=150, figsize=(5,6), sharex=True, constrained_layout=False,)\n",
    "\n",
    "    # go through each of the signals\n",
    "    for i in range(6):\n",
    "        axes[i].plot(cut_signal[signals_trend[i]],color=pal[i],linewidth=0.5, alpha=1)\n",
    "        axis_label = signals_trend[i]\n",
    "        axes[i].set_ylabel(axis_label,fontsize=8)\n",
    "        if i != 5:\n",
    "            axes[i].spines[\"top\"].set_visible(False)\n",
    "            axes[i].spines[\"right\"].set_visible(False)\n",
    "            axes[i].spines[\"left\"].set_visible(False)\n",
    "            axes[i].spines[\"bottom\"].set_visible(False)\n",
    "            axes[i].set_yticks([])\n",
    "        else:\n",
    "            axes[i].spines[\"top\"].set_visible(False)\n",
    "            axes[i].spines[\"right\"].set_visible(False)\n",
    "            axes[i].spines[\"left\"].set_visible(False)\n",
    "            axes[i].spines[\"bottom\"].set_visible(False)\n",
    "            axes[i].set_yticks([])\n",
    "            axes[i].tick_params(axis=\"x\", labelsize=8)\n",
    "    \n",
    "    plt.show()\n",
    "    \n",
    "signals_trend = l[7:] # there are 6 types of signals, smcAC to AE_spindle\n",
    "cut_signal = data[0,166] \n",
    "\n",
    "plot_cut(cut_signal, signals_trend)"
   ]
  },
  {
   "cell_type": "markdown",
   "metadata": {},
   "source": [
    "# 2. Data Prep"
   ]
  },
  {
   "cell_type": "markdown",
   "metadata": {},
   "source": [
    "Add the state of the tool (similar to what is done here: https://ieeexplore.ieee.org/abstract/document/8681165 ):\n",
    "\n",
    "**Healthy Sate** (label=0): 0-0.2mm flank wear <br/>\n",
    "**Degredation State** (label=1): 0.2-0.7mm flank wear <br/>\n",
    "**Failure State** (label=2): >0.7mm flank wear <br/>"
   ]
  },
  {
   "cell_type": "code",
   "execution_count": 5,
   "metadata": {},
   "outputs": [],
   "source": [
    "def tool_state(cols):\n",
    "    '''Add the label to the cut. Categories are:\n",
    "    Healthy Sate (label=0): 0~0.2mm flank wear\n",
    "    Degredation State (label=1): 0.2~0.7mm flank wear\n",
    "    Failure State (label=2): >0.7mm flank wear \n",
    "    '''\n",
    "    # pass in the tool wear, VB, column\n",
    "    vb = cols\n",
    "   \n",
    "    if vb < 0.2:\n",
    "        return 0\n",
    "    elif vb >= 0.2 and vb < 0.7:\n",
    "        return 1\n",
    "    elif pd.isnull(vb):\n",
    "        pass\n",
    "    else:\n",
    "        return 2"
   ]
  },
  {
   "cell_type": "code",
   "execution_count": 6,
   "metadata": {},
   "outputs": [],
   "source": [
    "# apply the label to the dataframe\n",
    "df_labels['tool_class'] = df_labels['VB'].apply(tool_state)"
   ]
  },
  {
   "cell_type": "code",
   "execution_count": 7,
   "metadata": {},
   "outputs": [
    {
     "data": {
      "text/html": [
       "<div>\n",
       "<style scoped>\n",
       "    .dataframe tbody tr th:only-of-type {\n",
       "        vertical-align: middle;\n",
       "    }\n",
       "\n",
       "    .dataframe tbody tr th {\n",
       "        vertical-align: top;\n",
       "    }\n",
       "\n",
       "    .dataframe thead th {\n",
       "        text-align: right;\n",
       "    }\n",
       "</style>\n",
       "<table border=\"1\" class=\"dataframe\">\n",
       "  <thead>\n",
       "    <tr style=\"text-align: right;\">\n",
       "      <th></th>\n",
       "      <th>case</th>\n",
       "      <th>run</th>\n",
       "      <th>VB</th>\n",
       "      <th>time</th>\n",
       "      <th>DOC</th>\n",
       "      <th>feed</th>\n",
       "      <th>material</th>\n",
       "      <th>cut_no</th>\n",
       "      <th>tool_class</th>\n",
       "    </tr>\n",
       "  </thead>\n",
       "  <tbody>\n",
       "    <tr>\n",
       "      <td>0</td>\n",
       "      <td>1</td>\n",
       "      <td>1</td>\n",
       "      <td>0.00</td>\n",
       "      <td>2</td>\n",
       "      <td>1.5</td>\n",
       "      <td>0.5</td>\n",
       "      <td>1</td>\n",
       "      <td>0</td>\n",
       "      <td>0.0</td>\n",
       "    </tr>\n",
       "    <tr>\n",
       "      <td>1</td>\n",
       "      <td>1</td>\n",
       "      <td>2</td>\n",
       "      <td>NaN</td>\n",
       "      <td>4</td>\n",
       "      <td>1.5</td>\n",
       "      <td>0.5</td>\n",
       "      <td>1</td>\n",
       "      <td>1</td>\n",
       "      <td>NaN</td>\n",
       "    </tr>\n",
       "    <tr>\n",
       "      <td>2</td>\n",
       "      <td>1</td>\n",
       "      <td>3</td>\n",
       "      <td>NaN</td>\n",
       "      <td>6</td>\n",
       "      <td>1.5</td>\n",
       "      <td>0.5</td>\n",
       "      <td>1</td>\n",
       "      <td>2</td>\n",
       "      <td>NaN</td>\n",
       "    </tr>\n",
       "    <tr>\n",
       "      <td>3</td>\n",
       "      <td>1</td>\n",
       "      <td>4</td>\n",
       "      <td>0.11</td>\n",
       "      <td>7</td>\n",
       "      <td>1.5</td>\n",
       "      <td>0.5</td>\n",
       "      <td>1</td>\n",
       "      <td>3</td>\n",
       "      <td>0.0</td>\n",
       "    </tr>\n",
       "    <tr>\n",
       "      <td>4</td>\n",
       "      <td>1</td>\n",
       "      <td>5</td>\n",
       "      <td>NaN</td>\n",
       "      <td>11</td>\n",
       "      <td>1.5</td>\n",
       "      <td>0.5</td>\n",
       "      <td>1</td>\n",
       "      <td>4</td>\n",
       "      <td>NaN</td>\n",
       "    </tr>\n",
       "  </tbody>\n",
       "</table>\n",
       "</div>"
      ],
      "text/plain": [
       "   case  run    VB  time  DOC  feed  material  cut_no  tool_class\n",
       "0     1    1  0.00     2  1.5   0.5         1       0         0.0\n",
       "1     1    2   NaN     4  1.5   0.5         1       1         NaN\n",
       "2     1    3   NaN     6  1.5   0.5         1       2         NaN\n",
       "3     1    4  0.11     7  1.5   0.5         1       3         0.0\n",
       "4     1    5   NaN    11  1.5   0.5         1       4         NaN"
      ]
     },
     "execution_count": 7,
     "metadata": {},
     "output_type": "execute_result"
    }
   ],
   "source": [
    "df_labels.head()"
   ]
  },
  {
   "cell_type": "markdown",
   "metadata": {},
   "source": [
    "We manually labelled the above table to fill in the NaN's in the tool_class. This was easier than automating it..."
   ]
  },
  {
   "cell_type": "code",
   "execution_count": 8,
   "metadata": {},
   "outputs": [
    {
     "data": {
      "text/html": [
       "<div>\n",
       "<style scoped>\n",
       "    .dataframe tbody tr th:only-of-type {\n",
       "        vertical-align: middle;\n",
       "    }\n",
       "\n",
       "    .dataframe tbody tr th {\n",
       "        vertical-align: top;\n",
       "    }\n",
       "\n",
       "    .dataframe thead th {\n",
       "        text-align: right;\n",
       "    }\n",
       "</style>\n",
       "<table border=\"1\" class=\"dataframe\">\n",
       "  <thead>\n",
       "    <tr style=\"text-align: right;\">\n",
       "      <th></th>\n",
       "      <th>case</th>\n",
       "      <th>run</th>\n",
       "      <th>VB</th>\n",
       "      <th>time</th>\n",
       "      <th>DOC</th>\n",
       "      <th>feed</th>\n",
       "      <th>material</th>\n",
       "      <th>cut_no</th>\n",
       "      <th>tool_class</th>\n",
       "    </tr>\n",
       "  </thead>\n",
       "  <tbody>\n",
       "    <tr>\n",
       "      <td>0</td>\n",
       "      <td>1</td>\n",
       "      <td>1</td>\n",
       "      <td>0.00</td>\n",
       "      <td>2</td>\n",
       "      <td>1.5</td>\n",
       "      <td>0.5</td>\n",
       "      <td>1</td>\n",
       "      <td>0</td>\n",
       "      <td>0</td>\n",
       "    </tr>\n",
       "    <tr>\n",
       "      <td>1</td>\n",
       "      <td>1</td>\n",
       "      <td>2</td>\n",
       "      <td>NaN</td>\n",
       "      <td>4</td>\n",
       "      <td>1.5</td>\n",
       "      <td>0.5</td>\n",
       "      <td>1</td>\n",
       "      <td>1</td>\n",
       "      <td>0</td>\n",
       "    </tr>\n",
       "    <tr>\n",
       "      <td>2</td>\n",
       "      <td>1</td>\n",
       "      <td>3</td>\n",
       "      <td>NaN</td>\n",
       "      <td>6</td>\n",
       "      <td>1.5</td>\n",
       "      <td>0.5</td>\n",
       "      <td>1</td>\n",
       "      <td>2</td>\n",
       "      <td>0</td>\n",
       "    </tr>\n",
       "    <tr>\n",
       "      <td>3</td>\n",
       "      <td>1</td>\n",
       "      <td>4</td>\n",
       "      <td>0.11</td>\n",
       "      <td>7</td>\n",
       "      <td>1.5</td>\n",
       "      <td>0.5</td>\n",
       "      <td>1</td>\n",
       "      <td>3</td>\n",
       "      <td>0</td>\n",
       "    </tr>\n",
       "    <tr>\n",
       "      <td>4</td>\n",
       "      <td>1</td>\n",
       "      <td>5</td>\n",
       "      <td>NaN</td>\n",
       "      <td>11</td>\n",
       "      <td>1.5</td>\n",
       "      <td>0.5</td>\n",
       "      <td>1</td>\n",
       "      <td>4</td>\n",
       "      <td>0</td>\n",
       "    </tr>\n",
       "  </tbody>\n",
       "</table>\n",
       "</div>"
      ],
      "text/plain": [
       "   case  run    VB  time  DOC  feed  material  cut_no  tool_class\n",
       "0     1    1  0.00     2  1.5   0.5         1       0           0\n",
       "1     1    2   NaN     4  1.5   0.5         1       1           0\n",
       "2     1    3   NaN     6  1.5   0.5         1       2           0\n",
       "3     1    4  0.11     7  1.5   0.5         1       3           0\n",
       "4     1    5   NaN    11  1.5   0.5         1       4           0"
      ]
     },
     "execution_count": 8,
     "metadata": {},
     "output_type": "execute_result"
    }
   ],
   "source": [
    "### UNCOMMENT TO SAVE CSV ###\n",
    "# df_labels.to_csv('labels_with_tool_class.csv', index=False)\n",
    "\n",
    "# load the labeled CSV (NaNs filled in by hand)\n",
    "df_labels = pd.read_csv('labels_with_tool_class.csv')\n",
    "\n",
    "df_labels.head()"
   ]
  },
  {
   "cell_type": "code",
   "execution_count": 10,
   "metadata": {},
   "outputs": [
    {
     "name": "stdout",
     "output_type": "stream",
     "text": [
      "smcAC\n",
      "smcDC\n",
      "vib_table\n",
      "vib_spindle\n",
      "AE_table\n",
      "AE_spindle\n"
     ]
    }
   ],
   "source": [
    "# check to see the categories we are going to trend\n",
    "for i in l[7:]:\n",
    "    print(i)"
   ]
  },
  {
   "cell_type": "markdown",
   "metadata": {},
   "source": [
    "Now we scale the data between -1 and 1."
   ]
  },
  {
   "cell_type": "code",
   "execution_count": 12,
   "metadata": {},
   "outputs": [],
   "source": [
    "def scaler(x,min_val,max_val, lower_norm_val, upper_norm_val):\n",
    "    \"\"\"Scale the signal between a min and max value\n",
    "    \n",
    "    Parameters\n",
    "    ===========\n",
    "    x : ndarray\n",
    "        Signal that is being normalized\n",
    "\n",
    "    max_val : int or float\n",
    "        Maximum value of the signal or dataset\n",
    "\n",
    "    min_val : int or float\n",
    "        Minimum value of the signal or dataset\n",
    "\n",
    "    lower_norm_val : int or float\n",
    "        Lower value you want to normalize the data between (e.g. 0)\n",
    "\n",
    "    upper_norm_val : int or float\n",
    "        Upper value you want to normalize the data between (e.g. 1)\n",
    "\n",
    "    Returns\n",
    "    ===========\n",
    "    x : ndarray\n",
    "        Returns a new array that was been scaled between the upper_norm_val\n",
    "        and lower_norm_val values\n",
    "\n",
    "    \"\"\"\n",
    "    \n",
    "    # https://codereview.stackexchange.com/questions/185785/scale-numpy-array-to-certain-range\n",
    "    col, row = np.shape(x)\n",
    "    for i in range(col):\n",
    "        x[i] = np.interp(x[i], (min_val, max_val), (lower_norm_val, upper_norm_val))\n",
    "    return x\n",
    "\n",
    "# get the min-max values for the smcAC and smcDC signals\n",
    "def get_min_max(x):\n",
    "    \n",
    "    # flatten the input array http://bit.ly/2MQuXZd\n",
    "    flat_vector = np.concatenate(x).ravel()\n",
    "    \n",
    "    min_val = min(flat_vector)\n",
    "    max_val = max(flat_vector)\n",
    "    \n",
    "    return min_val, max_val"
   ]
  },
  {
   "cell_type": "code",
   "execution_count": 13,
   "metadata": {},
   "outputs": [
    {
     "name": "stdout",
     "output_type": "stream",
     "text": [
      "smcAC\n",
      "0.0 1.0 \n",
      "\n",
      "smcDC\n",
      "0.0 1.0 \n",
      "\n",
      "vib_table\n",
      "0.0 1.0 \n",
      "\n",
      "vib_spindle\n",
      "0.0 1.0 \n",
      "\n",
      "AE_table\n",
      "0.0 1.0 \n",
      "\n",
      "AE_spindle\n",
      "0.0 1.0 \n",
      "\n"
     ]
    }
   ],
   "source": [
    "# iterate through each signal type in the data to scale\n",
    "for i in l[7:]:\n",
    "    list_a = [] # empty list\n",
    "    print(i)\n",
    "    \n",
    "    # iterate through each data-point in the samples\n",
    "    for j in range(167):\n",
    "        a = data[0,j][i]\n",
    "\n",
    "        # exclude some samples since they are bad\n",
    "        if j not in [17, 94]:\n",
    "            for k in get_min_max(a):\n",
    "                list_a.append(k)\n",
    "        else:\n",
    "            pass\n",
    "    \n",
    "    # get min-max values\n",
    "    min_val_a = min(list_a)\n",
    "    max_val_a = max(list_a)\n",
    "    print(min_val_a, max_val_a, '\\n')\n",
    "    \n",
    "    # scale each sample\n",
    "    for j in range(167):\n",
    "        a = data[0,j][i]\n",
    "        a = scaler(a,min_val_a, max_val_a, 0, 1)\n",
    "    "
   ]
  },
  {
   "cell_type": "code",
   "execution_count": 14,
   "metadata": {},
   "outputs": [
    {
     "data": {
      "text/plain": [
       "[<matplotlib.lines.Line2D at 0x7f841b16ac50>]"
      ]
     },
     "execution_count": 14,
     "metadata": {},
     "output_type": "execute_result"
    },
    {
     "data": {
      "image/png": "[encoded data removed]",
      "text/plain": [
       "<Figure size 432x288 with 1 Axes>"
      ]
     },
     "metadata": {},
     "output_type": "display_data"
    }
   ],
   "source": [
    "# plot a scaled data\n",
    "plt.plot(data[0,166]['smcAC'])"
   ]
  },
  {
   "cell_type": "code",
   "execution_count": 17,
   "metadata": {},
   "outputs": [
    {
     "data": {
      "text/html": [
       "<div>\n",
       "<style scoped>\n",
       "    .dataframe tbody tr th:only-of-type {\n",
       "        vertical-align: middle;\n",
       "    }\n",
       "\n",
       "    .dataframe tbody tr th {\n",
       "        vertical-align: top;\n",
       "    }\n",
       "\n",
       "    .dataframe thead th {\n",
       "        text-align: right;\n",
       "    }\n",
       "</style>\n",
       "<table border=\"1\" class=\"dataframe\">\n",
       "  <thead>\n",
       "    <tr style=\"text-align: right;\">\n",
       "      <th></th>\n",
       "      <th>case</th>\n",
       "      <th>run</th>\n",
       "      <th>VB</th>\n",
       "      <th>time</th>\n",
       "      <th>DOC</th>\n",
       "      <th>feed</th>\n",
       "      <th>material</th>\n",
       "      <th>cut_no</th>\n",
       "      <th>tool_class</th>\n",
       "    </tr>\n",
       "  </thead>\n",
       "  <tbody>\n",
       "    <tr>\n",
       "      <td>61</td>\n",
       "      <td>10</td>\n",
       "      <td>1</td>\n",
       "      <td>0.00</td>\n",
       "      <td>0</td>\n",
       "      <td>1.5</td>\n",
       "      <td>0.25</td>\n",
       "      <td>1</td>\n",
       "      <td>61</td>\n",
       "      <td>0</td>\n",
       "    </tr>\n",
       "    <tr>\n",
       "      <td>62</td>\n",
       "      <td>10</td>\n",
       "      <td>2</td>\n",
       "      <td>0.04</td>\n",
       "      <td>4</td>\n",
       "      <td>1.5</td>\n",
       "      <td>0.25</td>\n",
       "      <td>1</td>\n",
       "      <td>62</td>\n",
       "      <td>0</td>\n",
       "    </tr>\n",
       "    <tr>\n",
       "      <td>63</td>\n",
       "      <td>10</td>\n",
       "      <td>3</td>\n",
       "      <td>0.08</td>\n",
       "      <td>9</td>\n",
       "      <td>1.5</td>\n",
       "      <td>0.25</td>\n",
       "      <td>1</td>\n",
       "      <td>63</td>\n",
       "      <td>0</td>\n",
       "    </tr>\n",
       "    <tr>\n",
       "      <td>64</td>\n",
       "      <td>10</td>\n",
       "      <td>4</td>\n",
       "      <td>0.16</td>\n",
       "      <td>15</td>\n",
       "      <td>1.5</td>\n",
       "      <td>0.25</td>\n",
       "      <td>1</td>\n",
       "      <td>64</td>\n",
       "      <td>0</td>\n",
       "    </tr>\n",
       "    <tr>\n",
       "      <td>65</td>\n",
       "      <td>10</td>\n",
       "      <td>5</td>\n",
       "      <td>0.25</td>\n",
       "      <td>21</td>\n",
       "      <td>1.5</td>\n",
       "      <td>0.25</td>\n",
       "      <td>1</td>\n",
       "      <td>65</td>\n",
       "      <td>1</td>\n",
       "    </tr>\n",
       "  </tbody>\n",
       "</table>\n",
       "</div>"
      ],
      "text/plain": [
       "    case  run    VB  time  DOC  feed  material  cut_no  tool_class\n",
       "61    10    1  0.00     0  1.5  0.25         1      61           0\n",
       "62    10    2  0.04     4  1.5  0.25         1      62           0\n",
       "63    10    3  0.08     9  1.5  0.25         1      63           0\n",
       "64    10    4  0.16    15  1.5  0.25         1      64           0\n",
       "65    10    5  0.25    21  1.5  0.25         1      65           1"
      ]
     },
     "execution_count": 17,
     "metadata": {},
     "output_type": "execute_result"
    }
   ],
   "source": [
    "df_test.head()"
   ]
  },
  {
   "cell_type": "markdown",
   "metadata": {},
   "source": [
    "## Create Train, Validation, Test Data Sets"
   ]
  },
  {
   "cell_type": "markdown",
   "metadata": {},
   "source": [
    "We have some functions to creat tensors of the data, return the data in an X-Y format, and remove certain classes from the data sets to get a set of data suitable for anomaly detection"
   ]
  },
  {
   "cell_type": "code",
   "execution_count": 21,
   "metadata": {},
   "outputs": [],
   "source": [
    "def create_tensor(data_sample, signal_names, start, end, window_size):\n",
    "    '''Create a tensor from a cut sample. Final tensor will have shape: \n",
    "       [# samples, # sample len, # features/sample]\n",
    "    \n",
    "    Parameters\n",
    "    ===========\n",
    "    data_sample : ndarray\n",
    "        single data sample containing all the signals\n",
    "    \n",
    "    signal_names : tuple\n",
    "        tuple of all the signals that will be added into the tensor\n",
    "    '''\n",
    "    \n",
    "    s = signal_names[::-1] # only include the six signals, and reverse order\n",
    "    c = data_sample[s[0]].reshape((9000,1))\n",
    "\n",
    "    for i in range(len(s)):\n",
    "        try:\n",
    "            a = data_sample[s[i+1]].reshape((9000,1)) # reshape to make sure\n",
    "            c = np.hstack((a,c)) # horizontal stack\n",
    "        except:\n",
    "            # reshape into [# samples, # sample len, # features/sample]\n",
    "            c = c[start:end]\n",
    "            c = np.reshape(c, (1, c.shape[0],-1))\n",
    "    \n",
    "    # split the data\n",
    "    no_splits = int((end - start) / window_size)\n",
    "    c = np.vstack(np.split(c, no_splits, axis=1))\n",
    "            \n",
    "    return c\n",
    "\n",
    "def return_xy(df_labels, data, signal_names, start, end, window_size):\n",
    "    \n",
    "    temp_cuts = [] # temporary list to hold all the windowed cuts\n",
    "    temp_labels = []\n",
    "    X = [] # instantiate X's\n",
    "    y = [] # instantiate y's\n",
    "\n",
    "    #iterate throught the df\n",
    "    for i in df_labels.itertuples():\n",
    "        cut_data_ind = create_tensor(data[0,i.cut_no], signal_names, start, end, window_size)\n",
    "        temp_cuts.append(cut_data_ind)\n",
    "        temp_labels.append(i.tool_class)\n",
    "        \n",
    "\n",
    "    for i, tool_class in enumerate(temp_labels):\n",
    "        for cut_split in temp_cuts[i]:\n",
    "            y.append(tool_class)\n",
    "            X.append(cut_split)\n",
    "            \n",
    "    # vertical stack the X list (make it into an array)\n",
    "    X = np.array(X)\n",
    "    print('Shape of X:', X.shape)\n",
    "    y = np.array(y)\n",
    "    print('Shape of y:', y.shape)\n",
    "    return X, y\n",
    "\n",
    "def remove_classes(class_to_remove, y_val_slim, X_val_slim):\n",
    "    \"\"\"Funciton to remove classes from train/val set\"\"\"\n",
    "    \n",
    "    # start with y_valid_slim\n",
    "    index_to_delete = []\n",
    "    for i, class_digit in enumerate(y_val_slim):\n",
    "        if class_digit in class_to_remove:\n",
    "            index_to_delete.append(i)\n",
    "\n",
    "    y_val_slim = np.delete(y_val_slim, index_to_delete)\n",
    "    X_val_slim = np.delete(X_val_slim, index_to_delete, axis=0)\n",
    "    \n",
    "    return X_val_slim, y_val_slim"
   ]
  },
  {
   "cell_type": "code",
   "execution_count": null,
   "metadata": {},
   "outputs": [],
   "source": [
    "# discard certain cuts as they are strange\n",
    "cuts_remove = [17, 94]\n",
    "df_labels.drop(cuts_remove, inplace=True)"
   ]
  },
  {
   "cell_type": "markdown",
   "metadata": {},
   "source": [
    "We want to ensure that we have a complete life of tool in test data (tool_class from 0 to 2). Need to have the same for validation set.\n",
    "\n",
    "- case 15 (0.5 feed rate), 10 (0.25 feed rate), 5 (0.25 feed rate) in test data\n",
    "- case 11 (0.25 feed rate), 16 (0.5 feed rate) in validation data\n",
    "- rest in training data"
   ]
  },
  {
   "cell_type": "code",
   "execution_count": null,
   "metadata": {},
   "outputs": [],
   "source": [
    "# split the df_labels into the various train, validation, test sets\n",
    "val_cases = [11, 13]\n",
    "test_cases = [5,10,15]\n",
    "train_cases = []\n",
    "\n",
    "# there are 16 cases total\n",
    "for i in range(1,17):\n",
    "    if i in val_cases or i in test_cases:\n",
    "        pass\n",
    "    else:\n",
    "        train_cases.append(i)\n",
    "\n",
    "# create the label dataframes for each of the train, val, test sets\n",
    "df_train = df_labels[df_labels['case'].isin(train_cases)]\n",
    "df_val = df_labels[df_labels['case'].isin(val_cases)]\n",
    "df_test = df_labels[df_labels['case'].isin(test_cases)]"
   ]
  },
  {
   "cell_type": "code",
   "execution_count": 22,
   "metadata": {},
   "outputs": [
    {
     "name": "stdout",
     "output_type": "stream",
     "text": [
      "Shape of X: (11440, 64, 6)\n",
      "Shape of y: (11440,)\n",
      "Shape of X: (4180, 64, 6)\n",
      "Shape of y: (4180,)\n",
      "Shape of X: (2530, 64, 6)\n",
      "Shape of y: (2530,)\n",
      "Shape of X_train_slim: (11110, 64, 6)\n",
      "Shape of y_train_slim: (11110,)\n",
      "Shape of X_val_slim: (3520, 64, 6)\n",
      "Shape of y_val_slim: (3520,)\n"
     ]
    }
   ],
   "source": [
    "signal_names = l[7:]\n",
    "start = 960\n",
    "end = 8000\n",
    "window_size = 64\n",
    "\n",
    "\n",
    "X_train, y_train = return_xy(df_train, data, signal_names, start, end, window_size)\n",
    "X_val, y_val = return_xy(df_val, data, signal_names, start, end, window_size)\n",
    "X_test, y_test = return_xy(df_test, data, signal_names, start, end, window_size)\n",
    "\n",
    "X_train_slim, y_train_slim = remove_classes([2], y_train, X_train)\n",
    "print('Shape of X_train_slim:', X_train_slim.shape)\n",
    "print('Shape of y_train_slim:', y_train_slim.shape)\n",
    "X_val_slim, y_val_slim = remove_classes([2], y_val, X_val)\n",
    "print('Shape of X_val_slim:', X_val_slim.shape)\n",
    "print('Shape of y_val_slim:', y_val_slim.shape)"
   ]
  },
  {
   "cell_type": "markdown",
   "metadata": {},
   "source": [
    "# 3 - Build Model"
   ]
  },
  {
   "cell_type": "markdown",
   "metadata": {},
   "source": [
    "**How is an autoencoder used in anomaly detection?** <br/>\n",
    "We will be building an convolutional autoencoder (CAE) to learn what a \"normal\" cutting signal looks like. We will then use the model to reconstruct cut signals and measure their reconstruction error. Anomolous signals should have a larger reconstruction error.\n",
    "\n",
    "**What is an autoencoder?**\n",
    "An autoencoder learns to copy its inputs to its output. It consists of an encoder section, and a decoder section. The data is often \"squeezed\" through a bottle neck (or a regularization technique is used) to get a lower dimensional representation of the data. This \n",
    "\n",
    "![autoencoder_schema](https://upload.wikimedia.org/wikipedia/commons/thumb/3/37/Autoencoder_schema.png/659px-Autoencoder_schema.png)\n",
    "\n",
    "**More Resources:** <br/>\n",
    "\"[Hands-On Machine Learning with Scikit-Learn and TensorFlow](https://www.amazon.ca/Hands-Machine-Learning-Scikit-Learn-TensorFlow/dp/1492032646/ref=sr_1_1?crid=22QX9UK796YMX&keywords=hands+on+machine+learning+with+scikit+learn+and+tensorflow&qid=1573668803&sprefix=hands+on+mac%2Caps%2C161&sr=8-1)\" by Aurélien Geron is an excellent, and practical, resource for learning ML, sk-learn, and Tensorflow 2.0.\n",
    "\n",
    "![title](https://i.imgur.com/02K74an.jpg)"
   ]
  },
  {
   "cell_type": "markdown",
   "metadata": {},
   "source": [
    "**Setup Model Architecture**\n",
    "\n",
    "Shuffle the data, just to be sure."
   ]
  },
  {
   "cell_type": "code",
   "execution_count": 24,
   "metadata": {},
   "outputs": [],
   "source": [
    "from sklearn.utils import shuffle\n",
    "\n",
    "X_train_slim, y_train_slim = shuffle(X_train_slim, y_train_slim, random_state=0)\n",
    "X_val_slim, y_val_slim = shuffle(X_val_slim, y_val_slim, random_state=0)\n",
    "X_train, y_train = shuffle(X_train, y_train, random_state=0)\n",
    "X_val, y_val = shuffle(X_val, y_val, random_state=0)\n",
    "X_test, y_test = shuffle(X_test, y_test, random_state=0)"
   ]
  },
  {
   "cell_type": "code",
   "execution_count": 25,
   "metadata": {},
   "outputs": [
    {
     "name": "stdout",
     "output_type": "stream",
     "text": [
      "TensorFlow version:  2.0.0\n",
      "Keras version:  2.2.4-tf\n",
      "Tensorboard version: 2.0.0\n"
     ]
    }
   ],
   "source": [
    "import tensorflow as tf\n",
    "from tensorflow import keras\n",
    "import tensorboard\n",
    "\n",
    "print('TensorFlow version: ', tf.__version__)\n",
    "print('Keras version: ', keras.__version__)\n",
    "print('Tensorboard version:', tensorboard.__version__)"
   ]
  },
  {
   "cell_type": "code",
   "execution_count": 25,
   "metadata": {},
   "outputs": [
    {
     "name": "stdout",
     "output_type": "stream",
     "text": [
      "Model: \"sequential\"\n",
      "_________________________________________________________________\n",
      "Layer (type)                 Output Shape              Param #   \n",
      "=================================================================\n",
      "reshape (Reshape)            (None, 64, 6)             0         \n",
      "_________________________________________________________________\n",
      "batch_normalization (BatchNo (None, 64, 6)             24        \n",
      "_________________________________________________________________\n",
      "conv1d (Conv1D)              (None, 64, 128)           3968      \n",
      "_________________________________________________________________\n",
      "batch_normalization_1 (Batch (None, 64, 128)           512       \n",
      "_________________________________________________________________\n",
      "max_pooling1d (MaxPooling1D) (None, 32, 128)           0         \n",
      "_________________________________________________________________\n",
      "conv1d_1 (Conv1D)            (None, 32, 256)           98560     \n",
      "_________________________________________________________________\n",
      "batch_normalization_2 (Batch (None, 32, 256)           1024      \n",
      "_________________________________________________________________\n",
      "max_pooling1d_1 (MaxPooling1 (None, 16, 256)           0         \n",
      "_________________________________________________________________\n",
      "conv1d_2 (Conv1D)            (None, 16, 512)           393728    \n",
      "_________________________________________________________________\n",
      "batch_normalization_3 (Batch (None, 16, 512)           2048      \n",
      "_________________________________________________________________\n",
      "max_pooling1d_2 (MaxPooling1 (None, 8, 512)            0         \n",
      "=================================================================\n",
      "Total params: 499,864\n",
      "Trainable params: 498,060\n",
      "Non-trainable params: 1,804\n",
      "_________________________________________________________________\n",
      "Model: \"sequential_1\"\n",
      "_________________________________________________________________\n",
      "Layer (type)                 Output Shape              Param #   \n",
      "=================================================================\n",
      "up_sampling1d (UpSampling1D) (None, 16, 512)           0         \n",
      "_________________________________________________________________\n",
      "conv1d_3 (Conv1D)            (None, 16, 256)           393472    \n",
      "_________________________________________________________________\n",
      "batch_normalization_4 (Batch (None, 16, 256)           1024      \n",
      "_________________________________________________________________\n",
      "up_sampling1d_1 (UpSampling1 (None, 32, 256)           0         \n",
      "_________________________________________________________________\n",
      "conv1d_4 (Conv1D)            (None, 32, 128)           163968    \n",
      "_________________________________________________________________\n",
      "batch_normalization_5 (Batch (None, 32, 128)           512       \n",
      "_________________________________________________________________\n",
      "up_sampling1d_2 (UpSampling1 (None, 64, 128)           0         \n",
      "_________________________________________________________________\n",
      "conv1d_5 (Conv1D)            (None, 64, 6)             1542      \n",
      "_________________________________________________________________\n",
      "reshape_1 (Reshape)          (None, 64, 6)             0         \n",
      "=================================================================\n",
      "Total params: 560,518\n",
      "Trainable params: 559,750\n",
      "Non-trainable params: 768\n",
      "_________________________________________________________________\n"
     ]
    }
   ],
   "source": [
    "# build a CAE\n",
    "# code modified from Aurélien Geron \n",
    "# https://github.com/ageron/handson-ml2/blob/master/17_autoencoders_and_gans.ipynb\n",
    "\n",
    "tf.random.set_seed(15)\n",
    "np.random.seed(15)\n",
    "\n",
    "conv_encoder = keras.models.Sequential([\n",
    "    keras.layers.Reshape([64,6], input_shape=[64,6]),\n",
    "    keras.layers.BatchNormalization(),\n",
    "    keras.layers.Conv1D(128, kernel_size=5, padding=\"same\", activation=\"selu\"),\n",
    "    keras.layers.BatchNormalization(),\n",
    "    keras.layers.MaxPool1D(pool_size=2),\n",
    "    keras.layers.Conv1D(256, kernel_size=3, padding=\"same\", activation=\"selu\"),\n",
    "    keras.layers.BatchNormalization(),\n",
    "    keras.layers.MaxPool1D(pool_size=2),\n",
    "    keras.layers.Conv1D(512, kernel_size=3, padding=\"same\", activation=\"selu\"),\n",
    "    keras.layers.BatchNormalization(),\n",
    "    keras.layers.MaxPool1D(pool_size=2),   \n",
    "])\n",
    "\n",
    "conv_decoder = keras.models.Sequential([\n",
    "    keras.layers.UpSampling1D(size=2, input_shape=[8, 512]),\n",
    "    keras.layers.Conv1D(256, kernel_size=3, padding=\"same\", activation=\"selu\"),\n",
    "    keras.layers.BatchNormalization(),\n",
    "    keras.layers.UpSampling1D(size=2),\n",
    "    keras.layers.Conv1D(128, kernel_size=5, padding=\"same\", activation=\"selu\"),\n",
    "    keras.layers.BatchNormalization(),\n",
    "    keras.layers.UpSampling1D(size=2),\n",
    "    keras.layers.Conv1D(6, kernel_size=2, padding='same', activation=\"selu\"),\n",
    "    keras.layers.Reshape([64, 6])\n",
    "])\n",
    "\n",
    "conv_ae = keras.models.Sequential([conv_encoder,conv_decoder])\n",
    "\n",
    "# MSE and accuracy\n",
    "conv_ae.compile(loss=\"mean_squared_error\", optimizer=keras.optimizers.Adam(),metrics=['mean_absolute_error'])\n",
    "\n",
    "# show the model summaries\n",
    "conv_encoder.summary()\n",
    "conv_decoder.summary()\n",
    "\n",
    "# use tensorboard to track training\n",
    "log_dir=\"logs/\" + datetime.datetime.now().strftime(\"%Y%m%d-%H%M%S\")\n",
    "tensorboard_callback = tf.keras.callbacks.TensorBoard(log_dir=log_dir, histogram_freq=0,\n",
    "                                                      update_freq='epoch',profile_batch=0)"
   ]
  },
  {
   "cell_type": "markdown",
   "metadata": {},
   "source": [
    "**Train Model**"
   ]
  },
  {
   "cell_type": "code",
   "execution_count": 26,
   "metadata": {},
   "outputs": [
    {
     "name": "stdout",
     "output_type": "stream",
     "text": [
      "Train on 11110 samples, validate on 3520 samples\n",
      "Epoch 1/5\n",
      "11110/11110 [==============================] - 8s 752us/sample - loss: 0.0694 - mean_absolute_error: 0.1185 - val_loss: 0.0042 - val_mean_absolute_error: 0.0539\n",
      "Epoch 2/5\n",
      "11110/11110 [==============================] - 4s 394us/sample - loss: 0.0032 - mean_absolute_error: 0.0432 - val_loss: 0.0041 - val_mean_absolute_error: 0.0501\n",
      "Epoch 3/5\n",
      "11110/11110 [==============================] - 4s 401us/sample - loss: 0.0027 - mean_absolute_error: 0.0397 - val_loss: 0.0024 - val_mean_absolute_error: 0.0370\n",
      "Epoch 4/5\n",
      "11110/11110 [==============================] - 4s 396us/sample - loss: 0.0024 - mean_absolute_error: 0.0371 - val_loss: 0.0022 - val_mean_absolute_error: 0.0382\n",
      "Epoch 5/5\n",
      "11110/11110 [==============================] - 5s 405us/sample - loss: 0.0024 - mean_absolute_error: 0.0367 - val_loss: 0.0015 - val_mean_absolute_error: 0.0313\n"
     ]
    }
   ],
   "source": [
    "history = conv_ae.fit(X_train_slim, X_train_slim, epochs=5,\n",
    "                      validation_data=[X_val_slim, X_val_slim],callbacks=[tensorboard_callback])"
   ]
  },
  {
   "cell_type": "markdown",
   "metadata": {},
   "source": [
    "**Visualize Results** <br/>\n",
    "We now want to visualize some of the results. We will take the encoder portion and look at the latent variables that it generates. To do that, we will use t-SNE (t-Distributed Stochastic Neighbor Embedding) by [van der Maaten](https://lvdmaaten.github.io/tsne/). Of course, sklearn has a good [implementation](https://scikit-learn.org/stable/modules/generated/sklearn.manifold.TSNE.html). "
   ]
  },
  {
   "cell_type": "code",
   "execution_count": 28,
   "metadata": {},
   "outputs": [],
   "source": [
    "# use T-SNE\n",
    "# code modified from https://github.com/ageron/handson-ml2/blob/master/17_autoencoders_and_gans.ipynb\n",
    "\n",
    "from sklearn.manifold import TSNE\n",
    "\n",
    "def encoded_2d_tsne(X_valid_encoded):\n",
    "    \"\"\"Returns 2D representation of the latent space via T-SNE\"\"\"\n",
    "        \n",
    "    np.random.seed(63)\n",
    "    tsne = TSNE()\n",
    "    X_valid_2D = tsne.fit_transform(X_valid_encoded[:,:])\n",
    "    X_valid_2D = (X_valid_2D - X_valid_2D.min()) / (X_valid_2D.max() - X_valid_2D.min())\n",
    "    return X_valid_2D\n",
    "\n",
    "def plot_2d_ae(X_valid_2D, y_valid):\n",
    "    fig, axes = plt.subplots(nrows=1,ncols=1,dpi=150)\n",
    "\n",
    "    scatter = axes.scatter(X_valid_2D[:, 0], X_valid_2D[:, 1], \n",
    "                            c=y_valid, s=3, \n",
    "                            cmap=\"Set1\", \n",
    "                            alpha=0.5, \n",
    "                            linewidths=0, \n",
    "                            edgecolors=None,label=y_valid)\n",
    "\n",
    "    # use legend elements to add legend http://bit.ly/2Pe77WK\n",
    "    legend1 = axes.legend(*scatter.legend_elements(),\n",
    "                        loc='best',frameon=False)\n",
    "    \n",
    "    legend1.get_frame().set_facecolor('none')\n",
    "    axes.axis('off')\n",
    "    plt.show()   "
   ]
  },
  {
   "cell_type": "code",
   "execution_count": 108,
   "metadata": {},
   "outputs": [],
   "source": [
    "# get the 2D embeddings\n",
    "conv_encoder_latent = conv_encoder(X_val)\n",
    "conv_encoder_latent_avg = keras.layers.GlobalAveragePooling1D()(conv_encoder_latent).numpy()\n",
    "\n",
    "X_valid_2D = encoded_2d_tsne(conv_encoder_latent_avg)"
   ]
  },
  {
   "cell_type": "code",
   "execution_count": 109,
   "metadata": {},
   "outputs": [
    {
     "data": {
      "image/png": "[encoded data removed]",
      "text/plain": [
       "<Figure size 900x600 with 1 Axes>"
      ]
     },
     "metadata": {},
     "output_type": "display_data"
    }
   ],
   "source": [
    "plot_2d_ae(X_valid_2D, y_val)"
   ]
  },
  {
   "cell_type": "markdown",
   "metadata": {},
   "source": [
    "**Reconstruction error**"
   ]
  },
  {
   "cell_type": "code",
   "execution_count": 73,
   "metadata": {},
   "outputs": [],
   "source": [
    "# build a table with all the RMSE results from the reconstructions\n",
    "# sewar is a package that has many image quality assement algos already developed,\n",
    "# and it can be used as a good guide https://github.com/andrewekhalel/sewar\n",
    "# However, we will calculate the RMSE across the whole numpy array and then\n",
    "# put these in a pandas dataframe\n",
    "\n",
    "def mse(X_val,recon_val):\n",
    "    \"\"\"Calculate MSE for images in X_val and recon_val\"\"\"\n",
    "    \n",
    "    # need to calculate mean across the rows, and then across the columns\n",
    "    return np.mean(np.mean(np.square(X_val.astype('float32') - recon_val.astype('float32')),axis=1),axis=1)\n",
    "\n",
    "def rmse(X_val,recon_val):\n",
    "    \"\"\"Calculate RMSE for images in X_val and recon_val\"\"\"\n",
    "    return np.sqrt(mse(X_val, recon_val))\n",
    "\n",
    "def euclidean_distance(X_val,recon_val):\n",
    "    dist = np.linalg.norm(X_val - recon_val,axis=(1,2))\n",
    "    return dist\n",
    "\n",
    "# function that creates a pandas dataframe with the RMSE value, and the associated class\n",
    "def create_df_reconstruction(rmse_val, y_val, metric, class_to_remove, threshold_val):\n",
    "    df = pd.DataFrame(data=rmse_val, columns=[metric])\n",
    "    \n",
    "    # append the class values\n",
    "    df['class'] = y_val\n",
    "    \n",
    "    # label anomolous (outlier) data as -1, inliers as 1\n",
    "        # -1 (outlier) is POSITIVE class\n",
    "        #  1 (inlier) is NEGATIVE class\n",
    "    new_y_val = []\n",
    "    for i in y_val:\n",
    "        if i in class_to_remove:\n",
    "            new_y_val.append(-1)\n",
    "        else:\n",
    "            new_y_val.append(1)\n",
    "    \n",
    "    df['true_class'] = new_y_val\n",
    "    \n",
    "    # add prediction based on threshold\n",
    "    df['prediction'] = np.where(df[metric] >= threshold_val,-1,1)\n",
    "    \n",
    "    return df"
   ]
  },
  {
   "cell_type": "markdown",
   "metadata": {},
   "source": [
    "### Compare the Different Reconstruction Error Methods\n",
    "Use MSE, RMSE, euclidean distance, and see which one gives the best results.\n",
    "\n",
    "**MSE:**"
   ]
  },
  {
   "cell_type": "code",
   "execution_count": 132,
   "metadata": {},
   "outputs": [],
   "source": [
    "# get the reconstructions on the X_val_slim dataset, and the X_val dataset\n",
    "recon_val_slim = conv_ae(X_val_slim).numpy()\n",
    "recon_val = conv_ae(X_val).numpy()\n",
    "\n",
    "# calculate MSE reconstruction error\n",
    "mse_recon_val_slim = mse(X_val_slim, recon_val_slim) # for slim dataset\n",
    "mse_recon_val = mse(X_val, recon_val) # for complete validation dataset\n",
    "\n",
    "# class to remove (for df creation)\n",
    "class_to_remove = np.array([2],dtype='uint8')"
   ]
  },
  {
   "cell_type": "code",
   "execution_count": 133,
   "metadata": {},
   "outputs": [
    {
     "name": "stdout",
     "output_type": "stream",
     "text": [
      "0.0055369386\n",
      "0.00248399677220732\n"
     ]
    }
   ],
   "source": [
    "# look at the maximum reconstruction error, and the 90th percentile\n",
    "print(np.max(mse_recon_val_slim))\n",
    "print(np.percentile(mse_recon_val_slim,90))"
   ]
  },
  {
   "cell_type": "code",
   "execution_count": 140,
   "metadata": {},
   "outputs": [
    {
     "name": "stdout",
     "output_type": "stream",
     "text": [
      "Best threshold value: 0.0013000000000000002 \tROC score: 55.31%\n",
      "\n",
      "True Positive: 402\n",
      "False Positive: 1770\n",
      "True Negative: 1750\n",
      "False Negative: 258\n",
      "\n",
      "Confusion Matix:\n",
      "[[ 402  258]\n",
      " [1770 1750]]\n"
     ]
    },
    {
     "data": {
      "image/png": "[encoded data removed]",
      "text/plain": [
       "<Figure size 720x576 with 1 Axes>"
      ]
     },
     "metadata": {},
     "output_type": "display_data"
    }
   ],
   "source": [
    "from sklearn.metrics import confusion_matrix, roc_auc_score, roc_curve\n",
    "\n",
    "\n",
    "roc_scores = {}\n",
    "# for i in np.arange(0.1, 150, 0.5):\n",
    "for i in np.arange(0.0001, 0.2, 0.0001):\n",
    "     \n",
    "    threshold_val = i\n",
    "    df = create_df_reconstruction(mse_recon_val, y_val, \"recon_metric\",class_to_remove, threshold_val)\n",
    "    roc_val = roc_auc_score(df['true_class'], df['prediction'])\n",
    "    roc_scores[i] = roc_val\n",
    "\n",
    "# return best roc_score and the threshold used to set it\n",
    "threshold_val = max(zip(roc_scores.values(), roc_scores.keys()))\n",
    "print('Best threshold value:', threshold_val[1],'\\tROC score: {:.2%}'.format(threshold_val[0]))\n",
    "\n",
    "# use the best threshold value to make a confusion matrix\n",
    "df = create_df_reconstruction(mse_recon_val, y_val, \"recon_metric\",class_to_remove, threshold_val[1])\n",
    "\n",
    "\n",
    "# True Positive\n",
    "print(\"\\nTrue Positive:\",len(df[(df['true_class']==-1) & (df['prediction']==-1)]))\n",
    "# False Positive -- predict anomaly (-1), when it is actually normal (1)\n",
    "print(\"False Positive:\",len(df[(df['true_class']==1) & (df['prediction']==-1)]))\n",
    "# True Negative\n",
    "print(\"True Negative:\",len(df[(df['true_class']==1) & (df['prediction']==1)]))\n",
    "#False Negative\n",
    "print(\"False Negative:\",len(df[(df['true_class']==-1) & (df['prediction']==1)]))\n",
    "\n",
    "print('\\nConfusion Matrix:')\n",
    "print(confusion_matrix(df['true_class'], df['prediction']))\n",
    "\n",
    "fig, ax = plt.subplots(figsize=(10,8))\n",
    "df.boxplot(column=['recon_metric'], by='class', ax=ax).axhline(y=threshold_val[1],c='red',alpha=0.7)\n",
    "plt.title('Boxplots of MSE for X_valid_slim, by Class')\n",
    "plt.suptitle('')\n",
    "plt.show()"
   ]
  },
  {
   "cell_type": "markdown",
   "metadata": {},
   "source": [
    "![title](https://i.imgur.com/MEfumof.png)"
   ]
  },
  {
   "cell_type": "code",
   "execution_count": 135,
   "metadata": {},
   "outputs": [
    {
     "name": "stdout",
     "output_type": "stream",
     "text": [
      "True Positive: 402\n",
      "False Positive: 1770\n",
      "True Negative: 1750\n",
      "False Negative: 258\n"
     ]
    }
   ],
   "source": [
    "#*#*# Positive class is -1\n",
    "#*#*# Negative class is 1\n",
    "\n",
    "# True Positive\n",
    "print(\"True Positive:\",len(df[(df['true_class']==-1) & (df['prediction']==-1)]))\n",
    "# False Positive -- predict anomaly (-1), when it is actually normal (1)\n",
    "print(\"False Positive:\",len(df[(df['true_class']==1) & (df['prediction']==-1)]))\n",
    "# True Negative\n",
    "print(\"True Negative:\",len(df[(df['true_class']==1) & (df['prediction']==1)]))\n",
    "#False Negative\n",
    "print(\"False Negative:\",len(df[(df['true_class']==-1) & (df['prediction']==1)]))\n"
   ]
  },
  {
   "cell_type": "code",
   "execution_count": 138,
   "metadata": {},
   "outputs": [
    {
     "data": {
      "text/plain": [
       "(0, 0.01)"
      ]
     },
     "execution_count": 138,
     "metadata": {},
     "output_type": "execute_result"
    },
    {
     "data": {
      "image/png": "[encoded data removed]",
      "text/plain": [
       "<Figure size 432x288 with 1 Axes>"
      ]
     },
     "metadata": {},
     "output_type": "display_data"
    }
   ],
   "source": [
    "# examples of dist plots https://towardsdatascience.com/histograms-and-density-plots-in-python-f6bda88f5ac0\n",
    "import seaborn as sns\n",
    "\n",
    "class_list = [-1,1]\n",
    "for i in class_list:\n",
    "    subset = df[df['true_class'] == i]\n",
    "    \n",
    "    sns.distplot(subset['recon_metric'], hist = False, kde = True,\n",
    "                 kde_kws = {'shade': True, 'linewidth': 3},\n",
    "                 label = i)\n",
    "\n",
    "plt.xlim(0,0.01)\n",
    "# plt.yscale(\"log\")"
   ]
  },
  {
   "cell_type": "code",
   "execution_count": 90,
   "metadata": {},
   "outputs": [
    {
     "data": {
      "image/png": "[encoded data removed]",
      "text/plain": [
       "<Figure size 432x288 with 1 Axes>"
      ]
     },
     "metadata": {},
     "output_type": "display_data"
    }
   ],
   "source": [
    "fpr, tpr, thresholds = roc_curve(df['new_class'],df['prediction'], pos_label=1)\n",
    "auc = roc_auc_score(df['new_class'],df['prediction'])\n",
    "plt.plot(fpr,tpr,label=\"data 1, auc=\"+str(auc))\n",
    "plt.legend(loc=4)\n",
    "plt.show()"
   ]
  },
  {
   "cell_type": "code",
   "execution_count": 91,
   "metadata": {},
   "outputs": [
    {
     "name": "stdout",
     "output_type": "stream",
     "text": [
      "Threshold value: 0.0008 \tROC score: 63.55%\n",
      "[[ 330    0]\n",
      " [1604  596]]\n"
     ]
    }
   ],
   "source": [
    "# try on test data\n",
    "threshold_val = threshold_val[1]\n",
    "\n",
    "# use test data\n",
    "recon_test = conv_ae(X_test).numpy()\n",
    "\n",
    "# calculate MSE reconstruction error\n",
    "mse_recon_test = mse(X_test, recon_test) # for complete validation dataset\n",
    "\n",
    "df = create_df_reconstruction(mse_recon_test, y_test, \"recon_metric\",class_to_remove, threshold_val)\n",
    "roc_val = roc_auc_score(df['new_class'], df['prediction'])\n",
    "\n",
    "print('Threshold value:', threshold_val,'\\tROC score: {:.2%}'.format(roc_val))\n",
    "print(confusion_matrix(df['new_class'], df['prediction']))"
   ]
  },
  {
   "cell_type": "code",
   "execution_count": 92,
   "metadata": {},
   "outputs": [
    {
     "data": {
      "image/png": "[encoded data removed]",
      "text/plain": [
       "<Figure size 432x288 with 1 Axes>"
      ]
     },
     "metadata": {},
     "output_type": "display_data"
    }
   ],
   "source": [
    "fpr, tpr, thresholds = roc_curve(df['new_class'],df['prediction'], pos_label=1)\n",
    "auc = roc_auc_score(df['new_class'],df['prediction'])\n",
    "plt.plot(fpr,tpr,label=\"data 1, auc=\"+str(auc))\n",
    "plt.legend(loc=4)\n",
    "plt.show()"
   ]
  },
  {
   "cell_type": "markdown",
   "metadata": {},
   "source": [
    "**RMSE:**"
   ]
  },
  {
   "cell_type": "code",
   "execution_count": 93,
   "metadata": {},
   "outputs": [
    {
     "name": "stdout",
     "output_type": "stream",
     "text": [
      "0.07186213\n",
      "0.04321268126368522\n"
     ]
    }
   ],
   "source": [
    "# calculate RMSE reconstruction error\n",
    "rmse_recon_val_slim = rmse(X_val_slim, recon_val_slim) # for slim dataset\n",
    "rmse_recon_val = rmse(X_val, recon_val) # for complete validation dataset\n",
    "\n",
    "# look at the maximum reconstruction error, and the 90th percentile\n",
    "print(np.max(rmse_recon_val_slim))\n",
    "print(np.percentile(rmse_recon_val_slim,90))"
   ]
  },
  {
   "cell_type": "code",
   "execution_count": 96,
   "metadata": {},
   "outputs": [
    {
     "name": "stdout",
     "output_type": "stream",
     "text": [
      "Best threshold value: 0.028999999999999984 \tROC score: 73.39%\n",
      "\n",
      "Confusion Matix:\n",
      "[[ 585   75]\n",
      " [1473 2047]]\n"
     ]
    },
    {
     "data": {
      "image/png": "[encoded data removed]",
      "text/plain": [
       "<Figure size 720x576 with 1 Axes>"
      ]
     },
     "metadata": {},
     "output_type": "display_data"
    }
   ],
   "source": [
    "roc_scores = {}\n",
    "for i in np.arange(0.01, 1.0, 0.001):\n",
    "     \n",
    "    threshold_val = i\n",
    "    df = create_df_reconstruction(rmse_recon_val, y_val, \"recon_metric\",class_to_remove, threshold_val)\n",
    "    roc_val = roc_auc_score(df['new_class'], df['prediction'])\n",
    "    roc_scores[i] = roc_val\n",
    "\n",
    "# return best roc_score and the threshold used to set it\n",
    "threshold_val = max(zip(roc_scores.values(), roc_scores.keys()))\n",
    "print('Best threshold value:', threshold_val[1],'\\tROC score: {:.2%}'.format(threshold_val[0]))\n",
    "\n",
    "# use the best threshold value to make a confusion matrix\n",
    "df = create_df_reconstruction(rmse_recon_val, y_val, \"recon_metric\",class_to_remove, threshold_val[1])\n",
    "\n",
    "print('\\nConfusion Matix:')\n",
    "print(confusion_matrix(df['new_class'], df['prediction']))\n",
    "\n",
    "fig, ax = plt.subplots(figsize=(10,8))\n",
    "df.boxplot(column=['recon_metric'], by='class', ax=ax).axhline(y=threshold_val[1],c='red',alpha=0.7)\n",
    "plt.title('Boxplots of RMSE for Validation Set, by Class')\n",
    "plt.suptitle('')\n",
    "plt.show()"
   ]
  },
  {
   "cell_type": "code",
   "execution_count": 95,
   "metadata": {},
   "outputs": [
    {
     "data": {
      "image/png": "[encoded data removed]",
      "text/plain": [
       "<Figure size 432x288 with 1 Axes>"
      ]
     },
     "metadata": {},
     "output_type": "display_data"
    }
   ],
   "source": [
    "# examples of dist plots https://towardsdatascience.com/histograms-and-density-plots-in-python-f6bda88f5ac0\n",
    "import seaborn as sns\n",
    "\n",
    "class_list = [-1,1]\n",
    "for i in class_list:\n",
    "    subset = df[df['new_class'] == i]\n",
    "    \n",
    "    sns.distplot(subset['recon_metric'], hist = False, kde = True,\n",
    "                 kde_kws = {'shade': True, 'linewidth': 3},\n",
    "                 label = i)\n",
    "\n",
    "# plt.xlim(0,0.01)"
   ]
  },
  {
   "cell_type": "code",
   "execution_count": 107,
   "metadata": {},
   "outputs": [
    {
     "data": {
      "text/plain": [
       "<matplotlib.axes._subplots.AxesSubplot at 0x7f0cd9ee5d68>"
      ]
     },
     "execution_count": 107,
     "metadata": {},
     "output_type": "execute_result"
    },
    {
     "data": {
      "image/png": "[encoded data removed]",
      "text/plain": [
       "<Figure size 432x288 with 2 Axes>"
      ]
     },
     "metadata": {},
     "output_type": "display_data"
    }
   ],
   "source": [
    "cm = confusion_matrix(df['new_class'], df['prediction'])\n",
    "\n",
    "df_cm = pd.DataFrame(confusion_matrix(df['new_class'], df['prediction']),\n",
    "                     index=['Healthy', 'Anomaly'],columns=['Healthy','Anomaly'])\n",
    "\n",
    "sns.heatmap(df_cm,cmap='coolwarm',annot=True)\n",
    "\n",
    "# fig = plt.figure()\n",
    "# cmap = sns.cubehelix_palette(light=1, as_cmap=True)\n",
    "# res = sns.heatmap(df_cm, annot=True, vmin=0.0, vmax=100.0, fmt='.2f', cmap=cmap)\n",
    "# res.invert_yaxis()\n",
    "\n",
    "# plt.yticks([0.5,1.5,2.5], [ 'Dog', 'Cat', 'Rabbit'],va='center')\n",
    "# plt.show()"
   ]
  },
  {
   "cell_type": "code",
   "execution_count": 101,
   "metadata": {},
   "outputs": [
    {
     "data": {
      "text/html": [
       "<div>\n",
       "<style scoped>\n",
       "    .dataframe tbody tr th:only-of-type {\n",
       "        vertical-align: middle;\n",
       "    }\n",
       "\n",
       "    .dataframe tbody tr th {\n",
       "        vertical-align: top;\n",
       "    }\n",
       "\n",
       "    .dataframe thead th {\n",
       "        text-align: right;\n",
       "    }\n",
       "</style>\n",
       "<table border=\"1\" class=\"dataframe\">\n",
       "  <thead>\n",
       "    <tr style=\"text-align: right;\">\n",
       "      <th></th>\n",
       "      <th>Healthy</th>\n",
       "      <th>Anomaly</th>\n",
       "    </tr>\n",
       "  </thead>\n",
       "  <tbody>\n",
       "    <tr>\n",
       "      <td>Healthy</td>\n",
       "      <td>585</td>\n",
       "      <td>75</td>\n",
       "    </tr>\n",
       "    <tr>\n",
       "      <td>Anomaly</td>\n",
       "      <td>1473</td>\n",
       "      <td>2047</td>\n",
       "    </tr>\n",
       "  </tbody>\n",
       "</table>\n",
       "</div>"
      ],
      "text/plain": [
       "         Healthy  Anomaly\n",
       "Healthy      585       75\n",
       "Anomaly     1473     2047"
      ]
     },
     "execution_count": 101,
     "metadata": {},
     "output_type": "execute_result"
    }
   ],
   "source": [
    "df_cm"
   ]
  },
  {
   "cell_type": "markdown",
   "metadata": {},
   "source": [
    "**Euclidean Distance:**"
   ]
  },
  {
   "cell_type": "code",
   "execution_count": 346,
   "metadata": {},
   "outputs": [
    {
     "name": "stdout",
     "output_type": "stream",
     "text": [
      "1.0064597795544936\n",
      "0.5964445552641744\n"
     ]
    }
   ],
   "source": [
    "# calculate RMSE reconstruction error\n",
    "eu_recon_val_slim = euclidean_distance(X_val_slim, recon_val_slim) # for slim dataset\n",
    "eu_recon_val = euclidean_distance(X_val, recon_val) # for complete validation dataset\n",
    "\n",
    "# look at the maximum reconstruction error, and the 90th percentile\n",
    "print(np.max(eu_recon_val_slim))\n",
    "print(np.percentile(eu_recon_val_slim,90))"
   ]
  },
  {
   "cell_type": "code",
   "execution_count": 347,
   "metadata": {},
   "outputs": [
    {
     "name": "stdout",
     "output_type": "stream",
     "text": [
      "Best threshold value: 0.55 \tROC score: 82.52%\n",
      "\n",
      "Confusion Matix:\n",
      "[[ 539  121]\n",
      " [ 585 2935]]\n"
     ]
    },
    {
     "data": {
      "image/png": "[encoded data removed]",
      "text/plain": [
       "<Figure size 720x576 with 1 Axes>"
      ]
     },
     "metadata": {},
     "output_type": "display_data"
    }
   ],
   "source": [
    "roc_scores = {}\n",
    "for i in np.arange(0.01, 3, 0.01):\n",
    "     \n",
    "    threshold_val = i\n",
    "    df = create_df_reconstruction(eu_recon_val, y_val, \"recon_metric\",class_to_remove, threshold_val)\n",
    "    roc_val = roc_auc_score(df['new_class'], df['prediction'])\n",
    "    roc_scores[i] = roc_val\n",
    "\n",
    "# return best roc_score and the threshold used to set it\n",
    "threshold_val = max(zip(roc_scores.values(), roc_scores.keys()))\n",
    "print('Best threshold value:', threshold_val[1],'\\tROC score: {:.2%}'.format(threshold_val[0]))\n",
    "\n",
    "# use the best threshold value to make a confusion matrix\n",
    "df = create_df_reconstruction(eu_recon_val, y_val, \"recon_metric\",class_to_remove, threshold_val[1])\n",
    "\n",
    "print('\\nConfusion Matix:')\n",
    "print(confusion_matrix(df['new_class'], df['prediction']))\n",
    "\n",
    "fig, ax = plt.subplots(figsize=(10,8))\n",
    "df.boxplot(column=['recon_metric'], by='class', ax=ax).axhline(y=threshold_val[1],c='red',alpha=0.7)\n",
    "plt.title('Boxplots of MSE for X_valid_slim, by Class')\n",
    "plt.suptitle('')\n",
    "plt.show()"
   ]
  },
  {
   "cell_type": "markdown",
   "metadata": {},
   "source": [
    "## Isolation Forest"
   ]
  },
  {
   "cell_type": "markdown",
   "metadata": {},
   "source": [
    "Start by building a smaller convolutional autoencoder (the smaller one seems to work better, by experience)."
   ]
  },
  {
   "cell_type": "code",
   "execution_count": 351,
   "metadata": {},
   "outputs": [
    {
     "name": "stdout",
     "output_type": "stream",
     "text": [
      "Model: \"sequential_129\"\n",
      "_________________________________________________________________\n",
      "Layer (type)                 Output Shape              Param #   \n",
      "=================================================================\n",
      "reshape_86 (Reshape)         (None, 64, 6)             0         \n",
      "_________________________________________________________________\n",
      "conv1d_242 (Conv1D)          (None, 64, 128)           3968      \n",
      "_________________________________________________________________\n",
      "batch_normalization_239 (Bat (None, 64, 128)           512       \n",
      "_________________________________________________________________\n",
      "max_pooling1d_121 (MaxPoolin (None, 32, 128)           0         \n",
      "_________________________________________________________________\n",
      "conv1d_243 (Conv1D)          (None, 32, 256)           98560     \n",
      "_________________________________________________________________\n",
      "batch_normalization_240 (Bat (None, 32, 256)           1024      \n",
      "_________________________________________________________________\n",
      "max_pooling1d_122 (MaxPoolin (None, 16, 256)           0         \n",
      "=================================================================\n",
      "Total params: 104,064\n",
      "Trainable params: 103,296\n",
      "Non-trainable params: 768\n",
      "_________________________________________________________________\n",
      "Model: \"sequential_130\"\n",
      "_________________________________________________________________\n",
      "Layer (type)                 Output Shape              Param #   \n",
      "=================================================================\n",
      "up_sampling1d_121 (UpSamplin (None, 32, 256)           0         \n",
      "_________________________________________________________________\n",
      "conv1d_244 (Conv1D)          (None, 32, 128)           163968    \n",
      "_________________________________________________________________\n",
      "batch_normalization_241 (Bat (None, 32, 128)           512       \n",
      "_________________________________________________________________\n",
      "up_sampling1d_122 (UpSamplin (None, 64, 128)           0         \n",
      "_________________________________________________________________\n",
      "conv1d_245 (Conv1D)          (None, 64, 6)             1542      \n",
      "_________________________________________________________________\n",
      "reshape_87 (Reshape)         (None, 64, 6)             0         \n",
      "=================================================================\n",
      "Total params: 166,022\n",
      "Trainable params: 165,766\n",
      "Non-trainable params: 256\n",
      "_________________________________________________________________\n"
     ]
    }
   ],
   "source": [
    "# CONDENSED NETWORK\n",
    "tf.random.set_seed(19)\n",
    "np.random.seed(19)\n",
    "\n",
    "conv_encoder = keras.models.Sequential([\n",
    "    keras.layers.Reshape([64,6], input_shape=[64,6]),\n",
    "    keras.layers.Conv1D(128, kernel_size=5, padding=\"same\", activation=\"selu\"),\n",
    "    keras.layers.BatchNormalization(),\n",
    "    keras.layers.MaxPool1D(pool_size=2),\n",
    "    keras.layers.Conv1D(256, kernel_size=3, padding=\"same\", activation=\"selu\"),\n",
    "    keras.layers.BatchNormalization(),\n",
    "    keras.layers.MaxPool1D(pool_size=2),  \n",
    "])\n",
    "\n",
    "conv_decoder = keras.models.Sequential([\n",
    "    keras.layers.UpSampling1D(size=2, input_shape=[16, 256]),\n",
    "    keras.layers.Conv1D(128, kernel_size=5, padding=\"same\", activation=\"selu\"),\n",
    "    keras.layers.BatchNormalization(),\n",
    "    keras.layers.UpSampling1D(size=2),\n",
    "    keras.layers.Conv1D(6, kernel_size=2, padding='same', activation=\"selu\"),\n",
    "    keras.layers.Reshape([64, 6])\n",
    "])\n",
    "conv_ae = keras.models.Sequential([conv_encoder,conv_decoder])\n",
    "\n",
    "conv_ae.compile(loss=\"mean_squared_error\", optimizer=keras.optimizers.Adam(),metrics=['mean_absolute_error'])\n",
    "# conv_ae.compile(loss=\"binary_crossentropy\", optimizer=keras.optimizers.Adam(),metrics=[rounded_accuracy])\n",
    "\n",
    "conv_encoder.summary()\n",
    "conv_decoder.summary()"
   ]
  },
  {
   "cell_type": "code",
   "execution_count": 352,
   "metadata": {},
   "outputs": [
    {
     "name": "stdout",
     "output_type": "stream",
     "text": [
      "Train on 11440 samples, validate on 4180 samples\n",
      "Epoch 1/30\n",
      "11440/11440 [==============================] - 5s 452us/sample - loss: 0.0671 - mean_absolute_error: 0.1247 - val_loss: 0.0057 - val_mean_absolute_error: 0.0580\n",
      "Epoch 2/30\n",
      "11440/11440 [==============================] - 3s 274us/sample - loss: 0.0028 - mean_absolute_error: 0.0402 - val_loss: 0.0027 - val_mean_absolute_error: 0.0426\n",
      "Epoch 3/30\n",
      "11440/11440 [==============================] - 3s 273us/sample - loss: 0.0022 - mean_absolute_error: 0.0349 - val_loss: 0.0021 - val_mean_absolute_error: 0.0373\n",
      "Epoch 4/30\n",
      "11440/11440 [==============================] - 3s 279us/sample - loss: 0.0019 - mean_absolute_error: 0.0320 - val_loss: 0.0011 - val_mean_absolute_error: 0.0251\n",
      "Epoch 5/30\n",
      "11440/11440 [==============================] - 3s 278us/sample - loss: 0.0018 - mean_absolute_error: 0.0313 - val_loss: 0.0014 - val_mean_absolute_error: 0.0301\n",
      "Epoch 6/30\n",
      "11440/11440 [==============================] - 3s 260us/sample - loss: 0.0018 - mean_absolute_error: 0.0315 - val_loss: 0.0011 - val_mean_absolute_error: 0.0241\n",
      "Epoch 7/30\n",
      "11440/11440 [==============================] - 3s 264us/sample - loss: 0.0016 - mean_absolute_error: 0.0295 - val_loss: 0.0010 - val_mean_absolute_error: 0.0251\n",
      "Epoch 8/30\n",
      "11440/11440 [==============================] - 3s 263us/sample - loss: 0.0018 - mean_absolute_error: 0.0307 - val_loss: 0.0018 - val_mean_absolute_error: 0.0306\n",
      "Epoch 9/30\n",
      "11440/11440 [==============================] - 3s 270us/sample - loss: 0.0015 - mean_absolute_error: 0.0287 - val_loss: 7.1885e-04 - val_mean_absolute_error: 0.0201\n",
      "Epoch 10/30\n",
      "11440/11440 [==============================] - 3s 271us/sample - loss: 0.0016 - mean_absolute_error: 0.0292 - val_loss: 0.0033 - val_mean_absolute_error: 0.0429\n",
      "Epoch 11/30\n",
      "11440/11440 [==============================] - 3s 267us/sample - loss: 0.0015 - mean_absolute_error: 0.0285 - val_loss: 0.0014 - val_mean_absolute_error: 0.0275\n",
      "Epoch 12/30\n",
      "11440/11440 [==============================] - 3s 264us/sample - loss: 0.0015 - mean_absolute_error: 0.0284 - val_loss: 0.0017 - val_mean_absolute_error: 0.0305\n",
      "Epoch 13/30\n",
      "11440/11440 [==============================] - 3s 266us/sample - loss: 0.0016 - mean_absolute_error: 0.0288 - val_loss: 8.4610e-04 - val_mean_absolute_error: 0.0217\n",
      "Epoch 14/30\n",
      "11440/11440 [==============================] - 3s 269us/sample - loss: 0.0015 - mean_absolute_error: 0.0284 - val_loss: 8.2135e-04 - val_mean_absolute_error: 0.0223\n",
      "Epoch 15/30\n",
      "11440/11440 [==============================] - 3s 266us/sample - loss: 0.0014 - mean_absolute_error: 0.0276 - val_loss: 3.8846e-04 - val_mean_absolute_error: 0.0150\n",
      "Epoch 16/30\n",
      "11440/11440 [==============================] - 3s 268us/sample - loss: 0.0015 - mean_absolute_error: 0.0282 - val_loss: 0.0016 - val_mean_absolute_error: 0.0304\n",
      "Epoch 17/30\n",
      "11440/11440 [==============================] - 3s 266us/sample - loss: 0.0015 - mean_absolute_error: 0.0287 - val_loss: 0.0016 - val_mean_absolute_error: 0.0293\n",
      "Epoch 18/30\n",
      "11440/11440 [==============================] - 3s 266us/sample - loss: 0.0014 - mean_absolute_error: 0.0271 - val_loss: 0.0016 - val_mean_absolute_error: 0.0307\n",
      "Epoch 19/30\n",
      "11440/11440 [==============================] - 3s 268us/sample - loss: 0.0014 - mean_absolute_error: 0.0273 - val_loss: 0.0015 - val_mean_absolute_error: 0.0275\n",
      "Epoch 20/30\n",
      "11440/11440 [==============================] - 3s 266us/sample - loss: 0.0014 - mean_absolute_error: 0.0269 - val_loss: 0.0014 - val_mean_absolute_error: 0.0280\n",
      "Epoch 21/30\n",
      "11440/11440 [==============================] - 3s 269us/sample - loss: 0.0013 - mean_absolute_error: 0.0267 - val_loss: 0.0020 - val_mean_absolute_error: 0.0360\n",
      "Epoch 22/30\n",
      "11440/11440 [==============================] - 3s 265us/sample - loss: 0.0013 - mean_absolute_error: 0.0266 - val_loss: 6.0861e-04 - val_mean_absolute_error: 0.0193\n",
      "Epoch 23/30\n",
      "11440/11440 [==============================] - 3s 269us/sample - loss: 0.0013 - mean_absolute_error: 0.0267 - val_loss: 0.0023 - val_mean_absolute_error: 0.0366\n",
      "Epoch 24/30\n",
      "11440/11440 [==============================] - 3s 269us/sample - loss: 0.0013 - mean_absolute_error: 0.0260 - val_loss: 0.0028 - val_mean_absolute_error: 0.0428\n",
      "Epoch 25/30\n",
      "11440/11440 [==============================] - 3s 267us/sample - loss: 0.0014 - mean_absolute_error: 0.0266 - val_loss: 0.0015 - val_mean_absolute_error: 0.0292\n",
      "Epoch 26/30\n",
      "11440/11440 [==============================] - 3s 265us/sample - loss: 0.0012 - mean_absolute_error: 0.0255 - val_loss: 0.0044 - val_mean_absolute_error: 0.0426\n",
      "Epoch 27/30\n",
      "11440/11440 [==============================] - 3s 269us/sample - loss: 0.0013 - mean_absolute_error: 0.0258 - val_loss: 4.5392e-04 - val_mean_absolute_error: 0.0154\n",
      "Epoch 28/30\n",
      "11440/11440 [==============================] - 3s 261us/sample - loss: 0.0013 - mean_absolute_error: 0.0256 - val_loss: 0.0016 - val_mean_absolute_error: 0.0279\n",
      "Epoch 29/30\n",
      "11440/11440 [==============================] - 3s 255us/sample - loss: 0.0012 - mean_absolute_error: 0.0257 - val_loss: 0.0016 - val_mean_absolute_error: 0.0292\n",
      "Epoch 30/30\n",
      "11440/11440 [==============================] - 3s 251us/sample - loss: 0.0013 - mean_absolute_error: 0.0265 - val_loss: 0.0021 - val_mean_absolute_error: 0.0344\n"
     ]
    }
   ],
   "source": [
    "history = conv_ae.fit(X_train, X_train, epochs=30,\n",
    "                      validation_data=[X_val, X_val])"
   ]
  },
  {
   "cell_type": "code",
   "execution_count": 291,
   "metadata": {},
   "outputs": [],
   "source": [
    "from sklearn.ensemble import IsolationForest\n",
    "from sklearn.svm import OneClassSVM\n",
    "from sklearn.metrics import confusion_matrix, roc_auc_score, roc_curve, balanced_accuracy_score\n",
    "from imblearn.metrics import geometric_mean_score"
   ]
  },
  {
   "cell_type": "code",
   "execution_count": 349,
   "metadata": {},
   "outputs": [
    {
     "name": "stdout",
     "output_type": "stream",
     "text": [
      "WARNING:tensorflow:Layer reshape_84 is casting an input tensor from dtype float64 to the layer's dtype of float32, which is new behavior in TensorFlow 2.  The layer has dtype float32 because it's dtype defaults to floatx.\n",
      "\n",
      "If you intended to run this layer in float32, you can safely ignore this warning. If in doubt, this warning is likely only an issue if you are porting a TensorFlow 1.X model to TensorFlow 2.\n",
      "\n",
      "To change all layers to have dtype float64 by default, call `tf.keras.backend.set_floatx('float64')`. To change just this layer, pass dtype='float64' to the layer constructor. If you are the author of this layer, you can disable autocasting by passing autocast=False to the base Layer constructor.\n",
      "\n"
     ]
    }
   ],
   "source": [
    "# much code from sklearn example: http://bit.ly/2MUdvkE\n",
    "\n",
    "rng = np.random.RandomState(42)\n",
    "\n",
    "# get latent variables for train data\n",
    "encoder_train_slim = conv_encoder(X_train)\n",
    "encoder_train_slim = keras.layers.GlobalAveragePooling1D()(encoder_train_slim).numpy()\n",
    "\n",
    "encoder_train = conv_encoder(X_train)\n",
    "encoder_train = keras.layers.GlobalAveragePooling1D()(encoder_train).numpy()\n",
    "\n",
    "encoder_train_mean = np.mean(conv_encoder(X_train).numpy(),axis=2)\n",
    "\n",
    "\n",
    "# get latent variables for validation data\n",
    "encoder_val = conv_encoder(X_val)\n",
    "encoder_val = keras.layers.GlobalAveragePooling1D()(encoder_val).numpy()\n",
    "\n",
    "# get latent variables for test data\n",
    "encoder_test = conv_encoder(X_test)\n",
    "encoder_test = keras.layers.GlobalAveragePooling1D()(encoder_test).numpy()"
   ]
  },
  {
   "cell_type": "code",
   "execution_count": 350,
   "metadata": {},
   "outputs": [
    {
     "name": "stdout",
     "output_type": "stream",
     "text": [
      "0: roc_train/val 0.59422, 0.79867 | gm_train/val 0.59309, 0.79835 | bal_train/val 0.59422, 0.79867\n",
      "1: roc_train/val 0.56778, 0.66534 | gm_train/val 0.4846, 0.58525 | bal_train/val 0.56778, 0.66534\n",
      "2: roc_train/val 0.57256, 0.53665 | gm_train/val 0.50187, 0.34156 | bal_train/val 0.57256, 0.53665\n",
      "3: roc_train/val 0.50596, 0.50791 | gm_train/val 0.25626, 0.20665 | bal_train/val 0.50596, 0.50791\n",
      "4: roc_train/val 0.68195, 0.73651 | gm_train/val 0.6251, 0.72203 | bal_train/val 0.68195, 0.73651\n",
      "5: roc_train/val 0.49874, 0.5152 | gm_train/val 0.13344, 0.20119 | bal_train/val 0.49874, 0.5152\n",
      "6: roc_train/val 0.58471, 0.63466 | gm_train/val 0.41465, 0.51896 | bal_train/val 0.58471, 0.63466\n",
      "7: roc_train/val 0.57645, 0.54938 | gm_train/val 0.52125, 0.37564 | bal_train/val 0.57645, 0.54938\n",
      "8: roc_train/val 0.52588, 0.50431 | gm_train/val 0.49718, 0.40666 | bal_train/val 0.52588, 0.50431\n",
      "9: roc_train/val 0.5787, 0.78101 | gm_train/val 0.57867, 0.78074 | bal_train/val 0.5787, 0.78101\n"
     ]
    }
   ],
   "source": [
    "# try using ParameterSampler, http://bit.ly/32WUL9L\n",
    "# metrics: use balanced_accuracy_score from sklearn, http://bit.ly/3487oyS\n",
    "# use geometric mean score, from https://github.com/scikit-learn-contrib/imbalanced-learn\n",
    "\n",
    "class_to_remove = np.array([2],dtype='uint8')\n",
    "\n",
    "new_y_val = []\n",
    "for i in y_val:\n",
    "    if i in class_to_remove:\n",
    "        new_y_val.append(-1)\n",
    "    else:\n",
    "        new_y_val.append(1)\n",
    "\n",
    "new_y_train = []\n",
    "for i in y_train:\n",
    "    if i in class_to_remove:\n",
    "        new_y_train.append(-1)\n",
    "    else:\n",
    "        new_y_train.append(1)\n",
    "        \n",
    "new_y_test = []\n",
    "for i in y_test:\n",
    "    if i in class_to_remove:\n",
    "        new_y_test.append(-1)\n",
    "    else:\n",
    "        new_y_test.append(1)\n",
    "\n",
    "from sklearn.model_selection import ParameterSampler\n",
    "from scipy.stats import randint as sp_randint\n",
    "from scipy.stats import uniform\n",
    "\n",
    "param_grid = {\"contamination\": uniform(), \n",
    "              \"n_estimators\": sp_randint(10, 1000),\n",
    "              \"max_samples\": sp_randint(10, 1000),\n",
    "#               \"max_samples\": [64]\n",
    "             }\n",
    "\n",
    "# \"max_samples\": [16,32,64,128,256,512]\n",
    "\n",
    "n_iter = 10\n",
    "columns = ['roc_train', 'roc_val', 'gm_train', 'gm_val','bal_train', 'bal_val'] + list(param_grid.keys())\n",
    "\n",
    "df_results = pd.DataFrame(columns=columns)\n",
    "\n",
    "param_list = list(ParameterSampler(param_grid, n_iter=n_iter,random_state=rng))\n",
    "\n",
    "clf = IsolationForest(behaviour='new', random_state=rng,)\n",
    "\n",
    "top_score_index = []\n",
    "param_i = 0\n",
    "for params in param_list:\n",
    "    clf.set_params(**params)\n",
    "    clf.fit(encoder_train,)\n",
    "    y_pred_train = clf.predict(encoder_train)\n",
    "    y_pred_val = clf.predict(encoder_val)\n",
    "    \n",
    "    # roc_auc_score\n",
    "    roc_train = roc_auc_score(new_y_train, y_pred_train)\n",
    "    roc_val = roc_auc_score(new_y_val, y_pred_val)\n",
    "    \n",
    "    # geometric mean score\n",
    "    gm_train = geometric_mean_score(new_y_train, y_pred_train)\n",
    "    gm_val = geometric_mean_score(new_y_val, y_pred_val)\n",
    "    \n",
    "    # balanced accuracy score\n",
    "    bal_train = balanced_accuracy_score(new_y_train, y_pred_train)\n",
    "    bal_val = balanced_accuracy_score(new_y_val, y_pred_val)\n",
    "    \n",
    "    df_results = df_results.append(pd.DataFrame([[roc_train, roc_val, gm_train, gm_val, bal_train, bal_val]+\n",
    "                                                 [params['contamination'],\n",
    "                                                  params['n_estimators'],\n",
    "                                                  params['max_samples'],\n",
    "                                                 ]],columns=columns))\n",
    "    \n",
    "    print('{}: roc_train/val {:.5}, {:.5} | gm_train/val {:.5}, {:.5} | bal_train/val {:.5}, {:.5}'.format(param_i, roc_train, roc_val, gm_train, gm_val, bal_train, bal_val))\n",
    "    \n",
    "    param_i += 1"
   ]
  },
  {
   "cell_type": "code",
   "execution_count": 126,
   "metadata": {},
   "outputs": [
    {
     "data": {
      "text/html": [
       "<div>\n",
       "<style scoped>\n",
       "    .dataframe tbody tr th:only-of-type {\n",
       "        vertical-align: middle;\n",
       "    }\n",
       "\n",
       "    .dataframe tbody tr th {\n",
       "        vertical-align: top;\n",
       "    }\n",
       "\n",
       "    .dataframe thead th {\n",
       "        text-align: right;\n",
       "    }\n",
       "</style>\n",
       "<table border=\"1\" class=\"dataframe\">\n",
       "  <thead>\n",
       "    <tr style=\"text-align: right;\">\n",
       "      <th></th>\n",
       "      <th>roc_train</th>\n",
       "      <th>roc_val</th>\n",
       "      <th>gm_train</th>\n",
       "      <th>gm_val</th>\n",
       "      <th>bal_train</th>\n",
       "      <th>bal_val</th>\n",
       "      <th>contamination</th>\n",
       "      <th>n_estimators</th>\n",
       "      <th>max_samples</th>\n",
       "    </tr>\n",
       "  </thead>\n",
       "  <tbody>\n",
       "    <tr>\n",
       "      <td>0</td>\n",
       "      <td>0.612001</td>\n",
       "      <td>0.548627</td>\n",
       "      <td>0.547933</td>\n",
       "      <td>0.378542</td>\n",
       "      <td>0.612001</td>\n",
       "      <td>0.548627</td>\n",
       "      <td>0.121789</td>\n",
       "      <td>823</td>\n",
       "      <td>64</td>\n",
       "    </tr>\n",
       "    <tr>\n",
       "      <td>0</td>\n",
       "      <td>0.770492</td>\n",
       "      <td>0.694555</td>\n",
       "      <td>0.760040</td>\n",
       "      <td>0.671388</td>\n",
       "      <td>0.770492</td>\n",
       "      <td>0.694555</td>\n",
       "      <td>0.371597</td>\n",
       "      <td>524</td>\n",
       "      <td>64</td>\n",
       "    </tr>\n",
       "    <tr>\n",
       "      <td>0</td>\n",
       "      <td>0.656676</td>\n",
       "      <td>0.606960</td>\n",
       "      <td>0.653062</td>\n",
       "      <td>0.515382</td>\n",
       "      <td>0.656676</td>\n",
       "      <td>0.606960</td>\n",
       "      <td>0.283547</td>\n",
       "      <td>511</td>\n",
       "      <td>64</td>\n",
       "    </tr>\n",
       "    <tr>\n",
       "      <td>0</td>\n",
       "      <td>0.678968</td>\n",
       "      <td>0.695644</td>\n",
       "      <td>0.627037</td>\n",
       "      <td>0.688225</td>\n",
       "      <td>0.678968</td>\n",
       "      <td>0.695644</td>\n",
       "      <td>0.591761</td>\n",
       "      <td>109</td>\n",
       "      <td>64</td>\n",
       "    </tr>\n",
       "    <tr>\n",
       "      <td>0</td>\n",
       "      <td>0.723327</td>\n",
       "      <td>0.797254</td>\n",
       "      <td>0.697428</td>\n",
       "      <td>0.795469</td>\n",
       "      <td>0.723327</td>\n",
       "      <td>0.797254</td>\n",
       "      <td>0.481390</td>\n",
       "      <td>62</td>\n",
       "      <td>64</td>\n",
       "    </tr>\n",
       "    <tr>\n",
       "      <td>0</td>\n",
       "      <td>0.570252</td>\n",
       "      <td>0.499621</td>\n",
       "      <td>0.455579</td>\n",
       "      <td>0.211490</td>\n",
       "      <td>0.570252</td>\n",
       "      <td>0.499621</td>\n",
       "      <td>0.090810</td>\n",
       "      <td>158</td>\n",
       "      <td>64</td>\n",
       "    </tr>\n",
       "    <tr>\n",
       "      <td>0</td>\n",
       "      <td>0.606976</td>\n",
       "      <td>0.681013</td>\n",
       "      <td>0.462549</td>\n",
       "      <td>0.610231</td>\n",
       "      <td>0.606976</td>\n",
       "      <td>0.681013</td>\n",
       "      <td>0.792248</td>\n",
       "      <td>460</td>\n",
       "      <td>64</td>\n",
       "    </tr>\n",
       "    <tr>\n",
       "      <td>0</td>\n",
       "      <td>0.753690</td>\n",
       "      <td>0.752841</td>\n",
       "      <td>0.735521</td>\n",
       "      <td>0.747537</td>\n",
       "      <td>0.753690</td>\n",
       "      <td>0.752841</td>\n",
       "      <td>0.425418</td>\n",
       "      <td>541</td>\n",
       "      <td>64</td>\n",
       "    </tr>\n",
       "    <tr>\n",
       "      <td>0</td>\n",
       "      <td>0.712511</td>\n",
       "      <td>0.622869</td>\n",
       "      <td>0.712184</td>\n",
       "      <td>0.543260</td>\n",
       "      <td>0.712511</td>\n",
       "      <td>0.622869</td>\n",
       "      <td>0.278144</td>\n",
       "      <td>375</td>\n",
       "      <td>64</td>\n",
       "    </tr>\n",
       "    <tr>\n",
       "      <td>0</td>\n",
       "      <td>0.518407</td>\n",
       "      <td>0.514347</td>\n",
       "      <td>0.191869</td>\n",
       "      <td>0.169391</td>\n",
       "      <td>0.518407</td>\n",
       "      <td>0.514347</td>\n",
       "      <td>0.964309</td>\n",
       "      <td>529</td>\n",
       "      <td>64</td>\n",
       "    </tr>\n",
       "  </tbody>\n",
       "</table>\n",
       "</div>"
      ],
      "text/plain": [
       "   roc_train   roc_val  gm_train    gm_val  bal_train   bal_val  \\\n",
       "0   0.612001  0.548627  0.547933  0.378542   0.612001  0.548627   \n",
       "0   0.770492  0.694555  0.760040  0.671388   0.770492  0.694555   \n",
       "0   0.656676  0.606960  0.653062  0.515382   0.656676  0.606960   \n",
       "0   0.678968  0.695644  0.627037  0.688225   0.678968  0.695644   \n",
       "0   0.723327  0.797254  0.697428  0.795469   0.723327  0.797254   \n",
       "0   0.570252  0.499621  0.455579  0.211490   0.570252  0.499621   \n",
       "0   0.606976  0.681013  0.462549  0.610231   0.606976  0.681013   \n",
       "0   0.753690  0.752841  0.735521  0.747537   0.753690  0.752841   \n",
       "0   0.712511  0.622869  0.712184  0.543260   0.712511  0.622869   \n",
       "0   0.518407  0.514347  0.191869  0.169391   0.518407  0.514347   \n",
       "\n",
       "   contamination n_estimators max_samples  \n",
       "0       0.121789          823          64  \n",
       "0       0.371597          524          64  \n",
       "0       0.283547          511          64  \n",
       "0       0.591761          109          64  \n",
       "0       0.481390           62          64  \n",
       "0       0.090810          158          64  \n",
       "0       0.792248          460          64  \n",
       "0       0.425418          541          64  \n",
       "0       0.278144          375          64  \n",
       "0       0.964309          529          64  "
      ]
     },
     "execution_count": 126,
     "metadata": {},
     "output_type": "execute_result"
    }
   ],
   "source": [
    "df_results"
   ]
  },
  {
   "cell_type": "code",
   "execution_count": 251,
   "metadata": {},
   "outputs": [],
   "source": [
    "df_results_best = df_results[(df_results['gm_train'] > 0.7) & (df_results['gm_val'] > 0.7) & (df_results['gm_train'] > df_results['gm_val'])]"
   ]
  },
  {
   "cell_type": "code",
   "execution_count": 252,
   "metadata": {},
   "outputs": [
    {
     "data": {
      "text/html": [
       "<div>\n",
       "<style scoped>\n",
       "    .dataframe tbody tr th:only-of-type {\n",
       "        vertical-align: middle;\n",
       "    }\n",
       "\n",
       "    .dataframe tbody tr th {\n",
       "        vertical-align: top;\n",
       "    }\n",
       "\n",
       "    .dataframe thead th {\n",
       "        text-align: right;\n",
       "    }\n",
       "</style>\n",
       "<table border=\"1\" class=\"dataframe\">\n",
       "  <thead>\n",
       "    <tr style=\"text-align: right;\">\n",
       "      <th></th>\n",
       "      <th>roc_train</th>\n",
       "      <th>roc_val</th>\n",
       "      <th>gm_train</th>\n",
       "      <th>gm_val</th>\n",
       "      <th>bal_train</th>\n",
       "      <th>bal_val</th>\n",
       "      <th>contamination</th>\n",
       "      <th>n_estimators</th>\n",
       "      <th>max_samples</th>\n",
       "    </tr>\n",
       "  </thead>\n",
       "  <tbody>\n",
       "    <tr>\n",
       "      <td>0</td>\n",
       "      <td>0.772967</td>\n",
       "      <td>0.750237</td>\n",
       "      <td>0.758020</td>\n",
       "      <td>0.732792</td>\n",
       "      <td>0.772967</td>\n",
       "      <td>0.750237</td>\n",
       "      <td>0.394053</td>\n",
       "      <td>438</td>\n",
       "      <td>256</td>\n",
       "    </tr>\n",
       "    <tr>\n",
       "      <td>0</td>\n",
       "      <td>0.777288</td>\n",
       "      <td>0.748343</td>\n",
       "      <td>0.763270</td>\n",
       "      <td>0.728881</td>\n",
       "      <td>0.777288</td>\n",
       "      <td>0.748343</td>\n",
       "      <td>0.385685</td>\n",
       "      <td>453</td>\n",
       "      <td>256</td>\n",
       "    </tr>\n",
       "    <tr>\n",
       "      <td>0</td>\n",
       "      <td>0.777378</td>\n",
       "      <td>0.737027</td>\n",
       "      <td>0.763379</td>\n",
       "      <td>0.715972</td>\n",
       "      <td>0.777378</td>\n",
       "      <td>0.737027</td>\n",
       "      <td>0.385474</td>\n",
       "      <td>238</td>\n",
       "      <td>512</td>\n",
       "    </tr>\n",
       "    <tr>\n",
       "      <td>0</td>\n",
       "      <td>0.754665</td>\n",
       "      <td>0.740294</td>\n",
       "      <td>0.733942</td>\n",
       "      <td>0.730653</td>\n",
       "      <td>0.754665</td>\n",
       "      <td>0.740294</td>\n",
       "      <td>0.435627</td>\n",
       "      <td>574</td>\n",
       "      <td>64</td>\n",
       "    </tr>\n",
       "    <tr>\n",
       "      <td>0</td>\n",
       "      <td>0.804980</td>\n",
       "      <td>0.742945</td>\n",
       "      <td>0.797819</td>\n",
       "      <td>0.714083</td>\n",
       "      <td>0.804980</td>\n",
       "      <td>0.742945</td>\n",
       "      <td>0.319700</td>\n",
       "      <td>969</td>\n",
       "      <td>512</td>\n",
       "    </tr>\n",
       "    <tr>\n",
       "      <td>0</td>\n",
       "      <td>0.761461</td>\n",
       "      <td>0.748580</td>\n",
       "      <td>0.742506</td>\n",
       "      <td>0.738685</td>\n",
       "      <td>0.761461</td>\n",
       "      <td>0.748580</td>\n",
       "      <td>0.422433</td>\n",
       "      <td>957</td>\n",
       "      <td>128</td>\n",
       "    </tr>\n",
       "    <tr>\n",
       "      <td>0</td>\n",
       "      <td>0.789454</td>\n",
       "      <td>0.737784</td>\n",
       "      <td>0.778381</td>\n",
       "      <td>0.712274</td>\n",
       "      <td>0.789454</td>\n",
       "      <td>0.737784</td>\n",
       "      <td>0.358988</td>\n",
       "      <td>375</td>\n",
       "      <td>128</td>\n",
       "    </tr>\n",
       "    <tr>\n",
       "      <td>0</td>\n",
       "      <td>0.747540</td>\n",
       "      <td>0.719129</td>\n",
       "      <td>0.724083</td>\n",
       "      <td>0.716085</td>\n",
       "      <td>0.747540</td>\n",
       "      <td>0.719129</td>\n",
       "      <td>0.452539</td>\n",
       "      <td>63</td>\n",
       "      <td>128</td>\n",
       "    </tr>\n",
       "    <tr>\n",
       "      <td>0</td>\n",
       "      <td>0.736694</td>\n",
       "      <td>0.705208</td>\n",
       "      <td>0.707384</td>\n",
       "      <td>0.705118</td>\n",
       "      <td>0.736694</td>\n",
       "      <td>0.705208</td>\n",
       "      <td>0.482702</td>\n",
       "      <td>419</td>\n",
       "      <td>64</td>\n",
       "    </tr>\n",
       "    <tr>\n",
       "      <td>0</td>\n",
       "      <td>0.776463</td>\n",
       "      <td>0.749669</td>\n",
       "      <td>0.761676</td>\n",
       "      <td>0.730286</td>\n",
       "      <td>0.776463</td>\n",
       "      <td>0.749669</td>\n",
       "      <td>0.390294</td>\n",
       "      <td>234</td>\n",
       "      <td>256</td>\n",
       "    </tr>\n",
       "    <tr>\n",
       "      <td>0</td>\n",
       "      <td>0.758191</td>\n",
       "      <td>0.717235</td>\n",
       "      <td>0.739097</td>\n",
       "      <td>0.703746</td>\n",
       "      <td>0.758191</td>\n",
       "      <td>0.717235</td>\n",
       "      <td>0.425755</td>\n",
       "      <td>837</td>\n",
       "      <td>64</td>\n",
       "    </tr>\n",
       "    <tr>\n",
       "      <td>0</td>\n",
       "      <td>0.802640</td>\n",
       "      <td>0.775000</td>\n",
       "      <td>0.793834</td>\n",
       "      <td>0.756023</td>\n",
       "      <td>0.802640</td>\n",
       "      <td>0.775000</td>\n",
       "      <td>0.333397</td>\n",
       "      <td>441</td>\n",
       "      <td>704</td>\n",
       "    </tr>\n",
       "    <tr>\n",
       "      <td>0</td>\n",
       "      <td>0.793189</td>\n",
       "      <td>0.749053</td>\n",
       "      <td>0.784222</td>\n",
       "      <td>0.722537</td>\n",
       "      <td>0.793189</td>\n",
       "      <td>0.749053</td>\n",
       "      <td>0.342682</td>\n",
       "      <td>151</td>\n",
       "      <td>436</td>\n",
       "    </tr>\n",
       "  </tbody>\n",
       "</table>\n",
       "</div>"
      ],
      "text/plain": [
       "   roc_train   roc_val  gm_train    gm_val  bal_train   bal_val  \\\n",
       "0   0.772967  0.750237  0.758020  0.732792   0.772967  0.750237   \n",
       "0   0.777288  0.748343  0.763270  0.728881   0.777288  0.748343   \n",
       "0   0.777378  0.737027  0.763379  0.715972   0.777378  0.737027   \n",
       "0   0.754665  0.740294  0.733942  0.730653   0.754665  0.740294   \n",
       "0   0.804980  0.742945  0.797819  0.714083   0.804980  0.742945   \n",
       "0   0.761461  0.748580  0.742506  0.738685   0.761461  0.748580   \n",
       "0   0.789454  0.737784  0.778381  0.712274   0.789454  0.737784   \n",
       "0   0.747540  0.719129  0.724083  0.716085   0.747540  0.719129   \n",
       "0   0.736694  0.705208  0.707384  0.705118   0.736694  0.705208   \n",
       "0   0.776463  0.749669  0.761676  0.730286   0.776463  0.749669   \n",
       "0   0.758191  0.717235  0.739097  0.703746   0.758191  0.717235   \n",
       "0   0.802640  0.775000  0.793834  0.756023   0.802640  0.775000   \n",
       "0   0.793189  0.749053  0.784222  0.722537   0.793189  0.749053   \n",
       "\n",
       "   contamination n_estimators max_samples  \n",
       "0       0.394053          438         256  \n",
       "0       0.385685          453         256  \n",
       "0       0.385474          238         512  \n",
       "0       0.435627          574          64  \n",
       "0       0.319700          969         512  \n",
       "0       0.422433          957         128  \n",
       "0       0.358988          375         128  \n",
       "0       0.452539           63         128  \n",
       "0       0.482702          419          64  \n",
       "0       0.390294          234         256  \n",
       "0       0.425755          837          64  \n",
       "0       0.333397          441         704  \n",
       "0       0.342682          151         436  "
      ]
     },
     "execution_count": 252,
     "metadata": {},
     "output_type": "execute_result"
    }
   ],
   "source": [
    "df_results_best"
   ]
  },
  {
   "cell_type": "code",
   "execution_count": 258,
   "metadata": {},
   "outputs": [],
   "source": [
    "# df_results.to_csv('results_cvae_small_2.csv')"
   ]
  },
  {
   "cell_type": "code",
   "execution_count": 259,
   "metadata": {},
   "outputs": [
    {
     "data": {
      "image/png": "[encoded data removed]",
      "text/plain": [
       "<Figure size 936x576 with 1 Axes>"
      ]
     },
     "metadata": {
      "needs_background": "light"
     },
     "output_type": "display_data"
    }
   ],
   "source": [
    "# from https://stackoverflow.com/questions/52935143/how-to-do-a-contour-plot-from-x-y-z-coordinates-in-matplotlib-plt-contourf-or\n",
    "# could also use https://scikit-learn.org/stable/auto_examples/ensemble/plot_isolation_forest.html#sphx-glr-auto-examples-ensemble-plot-isolation-forest-py\n",
    "\n",
    "from scipy.interpolate import griddata\n",
    "\n",
    "def plot_contour(x,y,z,resolution = 50,contour_method='linear'):\n",
    "    resolution = str(resolution)+'j'\n",
    "    X,Y = np.mgrid[min(x):max(x):complex(resolution),   min(y):max(y):complex(resolution)]\n",
    "    points = [[a,b] for a,b in zip(x,y)]\n",
    "    Z = griddata(points, z, (X, Y), method=contour_method)\n",
    "    return X,Y,Z\n",
    "\n",
    "X,Y,Z = plot_contour(df_results['contamination'],df_results['n_estimators'],df_results['gm_train'],\n",
    "                     resolution = 50,\n",
    "                     contour_method='linear')\n",
    "\n",
    "with plt.style.context(\"seaborn-bright\"):\n",
    "    fig, ax = plt.subplots(figsize=(13,8))\n",
    "#     ax.scatter(df_results['contamination'],df_results['max_samples'], color=\"black\", linewidth=1, edgecolor=\"ivory\", s=50)\n",
    "    ax.contourf(X,Y,Z,cmap='OrRd', alpha=1)"
   ]
  },
  {
   "cell_type": "code",
   "execution_count": 127,
   "metadata": {},
   "outputs": [
    {
     "name": "stdout",
     "output_type": "stream",
     "text": [
      "#### Train Data Results ####\n",
      "ROC score: 76.43%\n",
      "\n",
      "Confusion Matix:\n",
      "[[ 292   38]\n",
      " [3959 7151]]\n",
      "\n",
      "#### Validation Data Results ####\n",
      "ROC score: 67.64%\n",
      "\n",
      "Confusion Matix:\n",
      "[[ 315  345]\n",
      " [ 438 3082]]\n"
     ]
    }
   ],
   "source": [
    "# choose a set of parameters that got good results, and check results on the train, validation, and test sets\n",
    "contamination=0.371597\n",
    "max_samples=64\n",
    "n_estimators=524\n",
    "\n",
    "# establish model parameters\n",
    "clf = IsolationForest(behaviour='new', random_state=rng, \n",
    "                      contamination=contamination, \n",
    "                      max_samples=max_samples,\n",
    "                      n_estimators=n_estimators)\n",
    "\n",
    "# train the model\n",
    "clf.fit(encoder_train,)\n",
    "\n",
    "# check the results\n",
    "# training data\n",
    "y_pred_train = clf.predict(encoder_train)\n",
    "roc_train = roc_auc_score(new_y_train, y_pred_train)\n",
    "\n",
    "\n",
    "\n",
    "# validation data\n",
    "y_pred_val = clf.predict(encoder_val)\n",
    "roc_val = roc_auc_score(new_y_val, y_pred_val)\n",
    "\n",
    "# show the ROC scores and confustion matrix\n",
    "print('#### Train Data Results ####')\n",
    "print('ROC score: {:.2%}'.format(roc_train))\n",
    "print('\\nConfusion Matix:')\n",
    "print(confusion_matrix(new_y_train, y_pred_train))\n",
    "\n",
    "print('\\n#### Validation Data Results ####')\n",
    "print('ROC score: {:.2%}'.format(roc_val))\n",
    "print('\\nConfusion Matix:')\n",
    "print(confusion_matrix(new_y_val, y_pred_val))\n",
    "\n",
    "# # use the best threshold value to make a confusion matrix\n",
    "# df = create_df_reconstruction(eu_recon_val, y_val, \"recon_metric\",class_to_remove, threshold_val[1])\n",
    "\n",
    "# print('\\nConfusion Matix:')\n",
    "# print(confusion_matrix(df['new_class'], df['prediction']))\n"
   ]
  },
  {
   "cell_type": "code",
   "execution_count": 128,
   "metadata": {},
   "outputs": [
    {
     "name": "stdout",
     "output_type": "stream",
     "text": [
      "\n",
      "#### Test Data Results ####\n",
      "ROC score: 79.69%\n",
      "\n",
      "Confusion Matix:\n",
      "[[ 329    1]\n",
      " [ 887 1313]]\n"
     ]
    }
   ],
   "source": [
    "# test data\n",
    "y_pred_test = clf.predict(encoder_test)\n",
    "roc_test = roc_auc_score(new_y_test, y_pred_test)\n",
    "\n",
    "print('\\n#### Test Data Results ####')\n",
    "print('ROC score: {:.2%}'.format(roc_test))\n",
    "print('\\nConfusion Matix:')\n",
    "print(confusion_matrix(new_y_test, y_pred_test))\n"
   ]
  },
  {
   "cell_type": "code",
   "execution_count": null,
   "metadata": {},
   "outputs": [],
   "source": []
  },
  {
   "cell_type": "markdown",
   "metadata": {},
   "source": [
    "![title](https://miro.medium.com/max/927/1*uR09zTlPgIj5PvMYJZScVg.png)"
   ]
  },
  {
   "cell_type": "markdown",
   "metadata": {},
   "source": [
    "**IDEAS**\n",
    "\n",
    "-Try imb-learn, http://imbalanced-learn.org/en/stable/, to use a better metric than ROC"
   ]
  },
  {
   "cell_type": "code",
   "execution_count": null,
   "metadata": {},
   "outputs": [],
   "source": []
  }
 ],
 "metadata": {
  "kernelspec": {
   "display_name": "Python 3",
   "language": "python",
   "name": "python3"
  },
  "language_info": {
   "codemirror_mode": {
    "name": "ipython",
    "version": 3
   },
   "file_extension": ".py",
   "mimetype": "text/x-python",
   "name": "python",
   "nbconvert_exporter": "python",
   "pygments_lexer": "ipython3",
   "version": "3.7.3"
  }
 },
 "nbformat": 4,
 "nbformat_minor": 2
}
